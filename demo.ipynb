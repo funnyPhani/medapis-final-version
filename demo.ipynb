{
 "cells": [
  {
   "cell_type": "code",
   "execution_count": 8,
   "metadata": {},
   "outputs": [
    {
     "data": {
      "text/markdown": [
       "Creating a Python program that identifies prime numbers and calculates their ranges can be quite challenging due to limitations with Markdown. However, we can approximate this using some mathematical concepts.\n",
       "\n",
       "To summarize:\n",
       "- A number is \"prime\" if it has exactly two distinct positive divisors: 1 and itself.\n",
       "- The range of primes for a large list can get very long as the numbers grow.\n",
       "\n",
       "However, here's an approximation that might be useful:\n",
       "\n",
       "```python\n",
       "import math\n",
       "\n",
       "def count_primes(n):\n",
       "    if n <= 2:\n",
       "        return 0\n",
       "    elif n == 3:\n",
       "        return 1\n",
       "    elif n % 2 == 0:\n",
       "        return 0\n",
       "    else:\n",
       "        return 1 + (count_primes(n - 2) > 0)\n",
       "\n",
       "def find_range_of_primes(prime_count):\n",
       "    # Calculate range for a given number of primes\n",
       "    range = prime_count * (prime_count + 1) // 2\n",
       "    print(f\"The range of the first {prime_count} primes is: {range}\")\n",
       "    \n",
       "# Example usage:\n",
       "count_primes = lambda n: n if n <= 2 else count_primes(n-1) + 1\n",
       "find_range_of_primes(count_primes(30)) # Output will be close to what you expect for your requirements.\n",
       "```\n",
       "\n",
       "### Explanation:\n",
       "- The `count_primes` function checks if a number is prime. It returns 1 if the number itself or 2 (the only even prime) and 0 otherwise.\n",
       "  \n",
       "- The `find_range_of_primes` function calculates the range of the first `n` primes using the formula for the sum of an arithmetic series, which is \\( \\frac{n(n+1)}{2} \\).\n",
       "\n",
       "However, this approach can get quite long and time-consuming as `prime_count` grows. For practical purposes in programming or other applications, a more efficient method might be to use prime checking algorithms that are faster computationally.\n",
       "\n",
       "### Notes:\n",
       "- For large values of `n`, the sum of primes using the formula will grow exponentially.\n",
       "- A smaller example with a fixed number like 30 would give an approximate range rather than specific numbers within that range. To get more precise, you might need to use a different algorithm or library specifically designed for prime counting and summation.\n",
       "\n",
       "This program is an approximation and not exactly accurate but useful for understanding the concept of prime numbers and their ranges in a practical way.\n",
       "```"
      ],
      "text/plain": [
       "<IPython.core.display.Markdown object>"
      ]
     },
     "execution_count": 8,
     "metadata": {},
     "output_type": "execute_result"
    }
   ],
   "source": [
    "from IPython.display import Markdown\n",
    "Markdown(\"Creating a Python program that identifies prime numbers and calculates their ranges can be quite challenging due to limitations with Markdown. However, we can approximate this using some mathematical concepts.\\n\\nTo summarize:\\n- A number is \\\"prime\\\" if it has exactly two distinct positive divisors: 1 and itself.\\n- The range of primes for a large list can get very long as the numbers grow.\\n\\nHowever, here's an approximation that might be useful:\\n\\n```python\\nimport math\\n\\ndef count_primes(n):\\n    if n <= 2:\\n        return 0\\n    elif n == 3:\\n        return 1\\n    elif n % 2 == 0:\\n        return 0\\n    else:\\n        return 1 + (count_primes(n - 2) > 0)\\n\\ndef find_range_of_primes(prime_count):\\n    # Calculate range for a given number of primes\\n    range = prime_count * (prime_count + 1) // 2\\n    print(f\\\"The range of the first {prime_count} primes is: {range}\\\")\\n    \\n# Example usage:\\ncount_primes = lambda n: n if n <= 2 else count_primes(n-1) + 1\\nfind_range_of_primes(count_primes(30)) # Output will be close to what you expect for your requirements.\\n```\\n\\n### Explanation:\\n- The `count_primes` function checks if a number is prime. It returns 1 if the number itself or 2 (the only even prime) and 0 otherwise.\\n  \\n- The `find_range_of_primes` function calculates the range of the first `n` primes using the formula for the sum of an arithmetic series, which is \\\\( \\\\frac{n(n+1)}{2} \\\\).\\n\\nHowever, this approach can get quite long and time-consuming as `prime_count` grows. For practical purposes in programming or other applications, a more efficient method might be to use prime checking algorithms that are faster computationally.\\n\\n### Notes:\\n- For large values of `n`, the sum of primes using the formula will grow exponentially.\\n- A smaller example with a fixed number like 30 would give an approximate range rather than specific numbers within that range. To get more precise, you might need to use a different algorithm or library specifically designed for prime counting and summation.\\n\\nThis program is an approximation and not exactly accurate but useful for understanding the concept of prime numbers and their ranges in a practical way.\\n```\")"
   ]
  },
  {
   "cell_type": "code",
   "execution_count": 10,
   "metadata": {},
   "outputs": [],
   "source": [
    "data = {\n",
    "  \"response\": \"Sure, here is the answer based on my knowledge:\\n\\n**India:** \\n\\n- **States with Population:** 291\\n\\n| State | Total Population |\\n|-------|-------------------|\\n| Andhra Pradesh | 70.8 million   |\\n| Assam | 66 million         |\\n| Karnataka | 64 million      |\\n| Kerala | 63.5 million     |\\n| Goa | 5.1 million        |\\n| Mizoram | 4.6 million     |\\n| Meghalaya | 3.7 million     |\\n\\nNote: Population estimates can vary slightly among different sources, and the most recent figures are as of July 2023.\",\n",
    "  \"connected_questions\": \"1. What are the top 5 most populous states in India based on their respective populations?\\n\\n2. How many million people live in each of India's top 50 states?\"\n",
    "}"
   ]
  },
  {
   "cell_type": "code",
   "execution_count": 11,
   "metadata": {},
   "outputs": [
    {
     "data": {
      "text/markdown": [
       "Sure, here is the answer based on my knowledge:\n",
       "\n",
       "**India:** \n",
       "\n",
       "- **States with Population:** 291\n",
       "\n",
       "| State | Total Population |\n",
       "|-------|-------------------|\n",
       "| Andhra Pradesh | 70.8 million   |\n",
       "| Assam | 66 million         |\n",
       "| Karnataka | 64 million      |\n",
       "| Kerala | 63.5 million     |\n",
       "| Goa | 5.1 million        |\n",
       "| Mizoram | 4.6 million     |\n",
       "| Meghalaya | 3.7 million     |\n",
       "\n",
       "Note: Population estimates can vary slightly among different sources, and the most recent figures are as of July 2023."
      ],
      "text/plain": [
       "<IPython.core.display.Markdown object>"
      ]
     },
     "execution_count": 11,
     "metadata": {},
     "output_type": "execute_result"
    }
   ],
   "source": [
    "Markdown(data['response'])"
   ]
  },
  {
   "cell_type": "code",
   "execution_count": 14,
   "metadata": {},
   "outputs": [
    {
     "data": {
      "text/markdown": [
       "\n",
       "\" ```\n",
       "Title: Analysis of Medical Image - Back of Person Showing Skin Condition\n",
       "\n",
       "Findings:\n",
       "- The skin condition on the back of the person is \n",
       "characterized by lesions that appear to be crusted and possibly infected or irritated.\n",
       "- These lesions are not confined to a single area but rather spread across a\n",
       "large portion of the person's back, indicating an ongoing process rather than acute infection or injury.\n",
       "\n",
       "Recommendations:\n",
       "1. Consultation with a dermatologist: \n",
       "Given the size and distribution of the skin condition, specialized medical care is recommended for proper diagnosis and treatment plan.\n",
       "2. Topical treatments:     \n",
       "Depending on the specific nature of the lesions, topical ointments or creams may be prescribed to help manage the symptoms and possibly prevent further spread.\n",
       "3. \n",
       "Monitoring for infection: Given the possible infectious aspect of the skin condition, regular monitoring for signs of infection is crucial. This includes checking  \n",
       "for fever, localized pain, and swelling around the affected areas.\n",
       "4. Patience with treatment: The treatment process may require time to be effective, so patience \n",
       "and consistent application or use of prescribed treatments are advised.\n",
       "\n",
       "Next Steps:\n",
       "1. Appointment with a dermatologist: As soon as possible, schedule an       \n",
       "appointment with a qualified dermatologist for diagnosis and treatment recommendations.\n",
       "2. Hygiene practices: Maintaining good personal hygiene is essential to    \n",
       "prevent the spread of any potential infection or to manage an existing skin condition. This includes regular bathing, using clean towels, and washing clothing      \n",
       "frequently.\n",
       "3. Follow-up care: After initiating treatment, follow-up care with a healthcare provider will be necessary to monitor progress and adjust treatment    \n",
       "plans as needed.\n",
       "\n",
       "Disclaimer: The above information should not replace the advice of a medical professional. Please consult a doctor before making any decisions  \n",
       "about your health or medical treatments. \n",
       "``` "
      ],
      "text/plain": [
       "<IPython.core.display.Markdown object>"
      ]
     },
     "execution_count": 14,
     "metadata": {},
     "output_type": "execute_result"
    }
   ],
   "source": [
    "from IPython.display import Markdown\n",
    "Markdown(\"\"\"\n",
    "\" ```\\nTitle: Analysis of Medical Image - Back of Person Showing Skin Condition\\n\\nFindings:\\n- The skin condition on the back of the person is \n",
    "characterized by lesions that appear to be crusted and possibly infected or irritated.\\n- These lesions are not confined to a single area but rather spread across a\n",
    "large portion of the person's back, indicating an ongoing process rather than acute infection or injury.\\n\\nRecommendations:\\n1. Consultation with a dermatologist: \n",
    "Given the size and distribution of the skin condition, specialized medical care is recommended for proper diagnosis and treatment plan.\\n2. Topical treatments:     \n",
    "Depending on the specific nature of the lesions, topical ointments or creams may be prescribed to help manage the symptoms and possibly prevent further spread.\\n3. \n",
    "Monitoring for infection: Given the possible infectious aspect of the skin condition, regular monitoring for signs of infection is crucial. This includes checking  \n",
    "for fever, localized pain, and swelling around the affected areas.\\n4. Patience with treatment: The treatment process may require time to be effective, so patience \n",
    "and consistent application or use of prescribed treatments are advised.\\n\\nNext Steps:\\n1. Appointment with a dermatologist: As soon as possible, schedule an       \n",
    "appointment with a qualified dermatologist for diagnosis and treatment recommendations.\\n2. Hygiene practices: Maintaining good personal hygiene is essential to    \n",
    "prevent the spread of any potential infection or to manage an existing skin condition. This includes regular bathing, using clean towels, and washing clothing      \n",
    "frequently.\\n3. Follow-up care: After initiating treatment, follow-up care with a healthcare provider will be necessary to monitor progress and adjust treatment    \n",
    "plans as needed.\\n\\nDisclaimer: The above information should not replace the advice of a medical professional. Please consult a doctor before making any decisions  \n",
    "about your health or medical treatments. \\n``` \"\"\")"
   ]
  },
  {
   "cell_type": "code",
   "execution_count": 15,
   "metadata": {},
   "outputs": [
    {
     "data": {
      "text/markdown": [
       "' ```\n",
       "1. Bread - 200 calories\n",
       "2. Butter - 350 calories\n",
       "3. Meat - 400 calories\n",
       "4. Vegetables - 250 calories\n",
       "5. Curry - 500 calories\n",
       "\n",
       "Total      \n",
       "Calories: 1600\n",
       "\n",
       "This meal is unhealthy. It lacks variety in terms of vegetables and grains, has a high percentage of fats (mainly saturated) and proteins, and is \n",
       "low in fiber. Additionally, there is a significant amount of sodium due to the sauces and curry.\n",
       "\n",
       "Suggestions for improvement:\n",
       "- Replace the bread with whole    \n",
       "grain or multigrain bread. This would increase fiber content and improve the overall healthiness of the meal.\n",
       "- Include more vegetables in various colors, which   \n",
       "would add vitamins, minerals, and antioxidants. Aim for a variety of types (leafy greens, root vegetables, etc.) to ensure a wide range of nutrients.\n",
       "- Reduce or  \n",
       "replace high-fat items like butter with healthier fats such as avocado or hummus.\n",
       "- Consider reducing the meat portion and increasing the vegetable content for    \n",
       "better balance and lower calorie intake.\n",
       "``` '"
      ],
      "text/plain": [
       "<IPython.core.display.Markdown object>"
      ]
     },
     "execution_count": 15,
     "metadata": {},
     "output_type": "execute_result"
    }
   ],
   "source": [
    "Markdown(\"\"\"' ```\\n1. Bread - 200 calories\\n2. Butter - 350 calories\\n3. Meat - 400 calories\\n4. Vegetables - 250 calories\\n5. Curry - 500 calories\\n\\nTotal      \n",
    "Calories: 1600\\n\\nThis meal is unhealthy. It lacks variety in terms of vegetables and grains, has a high percentage of fats (mainly saturated) and proteins, and is \n",
    "low in fiber. Additionally, there is a significant amount of sodium due to the sauces and curry.\\n\\nSuggestions for improvement:\\n- Replace the bread with whole    \n",
    "grain or multigrain bread. This would increase fiber content and improve the overall healthiness of the meal.\\n- Include more vegetables in various colors, which   \n",
    "would add vitamins, minerals, and antioxidants. Aim for a variety of types (leafy greens, root vegetables, etc.) to ensure a wide range of nutrients.\\n- Reduce or  \n",
    "replace high-fat items like butter with healthier fats such as avocado or hummus.\\n- Consider reducing the meat portion and increasing the vegetable content for    \n",
    "better balance and lower calorie intake.\\n``` '\"\"\")"
   ]
  },
  {
   "cell_type": "code",
   "execution_count": 2,
   "metadata": {},
   "outputs": [
    {
     "data": {
      "text/markdown": [
       " Based on the image provided, I can observe a skin condition that resembles a rash or some form of dermatological irritation. The affected area appears red and inflamed with multiple small lesions or papules, which might be indicative of an allergic reaction, contact dermatitis, or another type of skin condition.\n",
       "\n",
       "However, due to the limitations of analyzing medical images without a proper examination, it is difficult to provide a definitive diagnosis. The exact cause and any underlying health issues would require a consultation with a dermatologist who can perform a physical examination and possibly order diagnostic tests if necessary.\n",
       "\n",
       "### Recommendations:\n",
       "1. **Consult with a Doctor:** As the image does not provide enough context or information to diagnose the condition accurately, it's crucial to consult with a healthcare professional.\n",
       "2. **Care Instructions:** While waiting for an appointment, one could follow general care instructions such as keeping the affected area clean, avoiding tight clothing, and using over-the-counter products specifically designed for skin irritation if recommended by a healthcare provider.\n",
       "3. **Avoid Self-Diagnosis or Treatment:** Over-the-counter treatments should be chosen with caution and only under the guidance of a medical professional to ensure that the treatment is appropriate and does not worsen the condition.\n",
       "\n",
       "### Disclaimer:\n",
       "This analysis is based on a single image and provides general advice. It is essential to consult with a qualified healthcare provider for an accurate diagnosis and personalized care plan. "
      ],
      "text/plain": [
       "<IPython.core.display.Markdown object>"
      ]
     },
     "execution_count": 2,
     "metadata": {},
     "output_type": "execute_result"
    }
   ],
   "source": [
    "from IPython.display import Markdown\n",
    "\n",
    "Markdown(\" Based on the image provided, I can observe a skin condition that resembles a rash or some form of dermatological irritation. The affected area appears red and inflamed with multiple small lesions or papules, which might be indicative of an allergic reaction, contact dermatitis, or another type of skin condition.\\n\\nHowever, due to the limitations of analyzing medical images without a proper examination, it is difficult to provide a definitive diagnosis. The exact cause and any underlying health issues would require a consultation with a dermatologist who can perform a physical examination and possibly order diagnostic tests if necessary.\\n\\n### Recommendations:\\n1. **Consult with a Doctor:** As the image does not provide enough context or information to diagnose the condition accurately, it's crucial to consult with a healthcare professional.\\n2. **Care Instructions:** While waiting for an appointment, one could follow general care instructions such as keeping the affected area clean, avoiding tight clothing, and using over-the-counter products specifically designed for skin irritation if recommended by a healthcare provider.\\n3. **Avoid Self-Diagnosis or Treatment:** Over-the-counter treatments should be chosen with caution and only under the guidance of a medical professional to ensure that the treatment is appropriate and does not worsen the condition.\\n\\n### Disclaimer:\\nThis analysis is based on a single image and provides general advice. It is essential to consult with a qualified healthcare provider for an accurate diagnosis and personalized care plan. \")"
   ]
  },
  {
   "cell_type": "code",
   "execution_count": 8,
   "metadata": {},
   "outputs": [],
   "source": [
    "from dotenv import load_dotenv\n",
    "load_dotenv()\n",
    "import os\n",
    "import voyageai\n",
    "\n",
    "vo = voyageai.Client(api_key = os.getenv(\"voyageai\"))\n",
    "# This will automatically use the environment variable VOYAGE_API_KEY.\n",
    "# Alternatively, you can use vo = voyageai.Client(api_key=\"<your secret key>\")\n",
    "\n",
    "result = vo.embed([\"hello world\"], model=\"voyage-3\")"
   ]
  },
  {
   "cell_type": "code",
   "execution_count": 9,
   "metadata": {},
   "outputs": [
    {
     "data": {
      "text/plain": [
       "2"
      ]
     },
     "execution_count": 9,
     "metadata": {},
     "output_type": "execute_result"
    }
   ],
   "source": [
    "result.total_tokens"
   ]
  },
  {
   "cell_type": "code",
   "execution_count": 10,
   "metadata": {},
   "outputs": [],
   "source": [
    "documents = [\n",
    "    \"The Mediterranean diet emphasizes fish, olive oil, and vegetables, believed to reduce chronic diseases.\",\n",
    "    \"Photosynthesis in plants converts light energy into glucose and produces essential oxygen.\",\n",
    "    \"20th-century innovations, from radios to smartphones, centered on electronic advancements.\",\n",
    "    \"Rivers provide water, irrigation, and habitat for aquatic species, vital for ecosystems.\",\n",
    "    \"Apple’s conference call to discuss fourth fiscal quarter results and business updates is scheduled for Thursday, November 2, 2023 at 2:00 p.m. PT / 5:00 p.m. ET.\",\n",
    "    \"Shakespeare's works, like 'Hamlet' and 'A Midsummer Night's Dream,' endure in literature.\"\n",
    "]\n",
    "\n",
    "import voyageai\n",
    "\n",
    "# This will automatically use the environment variable VOYAGE_API_KEY.\n",
    "# Alternatively, you can use vo = voyageai.Client(api_key=\"<your secret key>\")\n",
    "\n",
    "# Embed the documents\n",
    "documents_embeddings = vo.embed(\n",
    "    documents, model=\"voyage-3\", input_type=\"document\"\n",
    ").embeddings"
   ]
  },
  {
   "cell_type": "code",
   "execution_count": 11,
   "metadata": {},
   "outputs": [],
   "source": [
    "query = \"When is Apple's conference call scheduled?\""
   ]
  },
  {
   "cell_type": "code",
   "execution_count": 12,
   "metadata": {},
   "outputs": [],
   "source": [
    "# Get the embedding of the query\n",
    "query_embedding = vo.embed([query], model=\"voyage-3\", input_type=\"query\").embeddings[0]"
   ]
  },
  {
   "cell_type": "code",
   "execution_count": 14,
   "metadata": {},
   "outputs": [],
   "source": [
    "# query_embedding"
   ]
  },
  {
   "cell_type": "code",
   "execution_count": 15,
   "metadata": {},
   "outputs": [
    {
     "name": "stdout",
     "output_type": "stream",
     "text": [
      "Apple’s conference call to discuss fourth fiscal quarter results and business updates is scheduled for Thursday, November 2, 2023 at 2:00 p.m. PT / 5:00 p.m. ET.\n"
     ]
    }
   ],
   "source": [
    "# Compute the similarity\n",
    "# Voyage embeddings are normalized to length 1, therefore dot-product and cosine \n",
    "# similarity are the same.\n",
    "import numpy as np\n",
    "similarities = np.dot(documents_embeddings, query_embedding)\n",
    "\n",
    "retrieved_id = np.argmax(similarities)\n",
    "print(documents[retrieved_id])"
   ]
  },
  {
   "cell_type": "code",
   "execution_count": 16,
   "metadata": {},
   "outputs": [],
   "source": [
    "from sklearn.metrics.pairwise import cosine_similarity\n",
    "import numpy as np\n",
    "\n",
    "def k_nearest_neighbors(query_embedding, documents_embeddings, k=2):\n",
    "    # Convert to numpy array\n",
    "    query_embedding = np.array(query_embedding)\n",
    "    documents_embeddings = np.array(documents_embeddings)\n",
    "\n",
    "    # Reshape the query vector embedding to a matrix of shape (1, n) to make it \n",
    "    # compatible with cosine_similarity\n",
    "    query_embedding = query_embedding.reshape(1, -1)\n",
    "\n",
    "    # Calculate the similarity for each item in data\n",
    "    cosine_sim = cosine_similarity(query_embedding, documents_embeddings)\n",
    "\n",
    "    # Sort the data by similarity in descending order and take the top k items\n",
    "    sorted_indices = np.argsort(cosine_sim[0])[::-1]\n",
    "\n",
    "    # Take the top k related embeddings\n",
    "    top_k_related_indices = sorted_indices[:k]\n",
    "    top_k_related_embeddings = documents_embeddings[sorted_indices[:k]]\n",
    "    top_k_related_embeddings = [\n",
    "        list(row[:]) for row in top_k_related_embeddings\n",
    "    ]  # convert to list\n",
    "\n",
    "    return top_k_related_embeddings, top_k_related_indices"
   ]
  },
  {
   "cell_type": "code",
   "execution_count": 18,
   "metadata": {},
   "outputs": [
    {
     "data": {
      "text/plain": [
       "['Apple’s conference call to discuss fourth fiscal quarter results and business updates is scheduled for Thursday, November 2, 2023 at 2:00 p.m. PT / 5:00 p.m. ET.',\n",
       " 'Rivers provide water, irrigation, and habitat for aquatic species, vital for ecosystems.',\n",
       " \"Shakespeare's works, like 'Hamlet' and 'A Midsummer Night's Dream,' endure in literature.\"]"
      ]
     },
     "execution_count": 18,
     "metadata": {},
     "output_type": "execute_result"
    }
   ],
   "source": [
    "# Use the k-nearest neighbor algorithm to identify the top-k documents with the highest similarity\n",
    "\n",
    "retrieved_embds, retrieved_embd_indices = k_nearest_neighbors(\n",
    "    query_embedding, documents_embeddings, k=3\n",
    ")\n",
    "retrieved_docs = [documents[index] for index in retrieved_embd_indices]\n",
    "retrieved_docs"
   ]
  },
  {
   "cell_type": "code",
   "execution_count": 20,
   "metadata": {},
   "outputs": [
    {
     "name": "stdout",
     "output_type": "stream",
     "text": [
      "Document: Apple’s conference call to discuss fourth fiscal quarter results and business updates is scheduled for Thursday, November 2, 2023 at 2:00 p.m. PT / 5:00 p.m. ET.\n",
      "Relevance Score: 0.91015625\n",
      "Index: 4\n",
      "\n",
      "Document: Rivers provide water, irrigation, and habitat for aquatic species, vital for ecosystems.\n",
      "Relevance Score: 0.515625\n",
      "Index: 3\n",
      "\n",
      "Document: Photosynthesis in plants converts light energy into glucose and produces essential oxygen.\n",
      "Relevance Score: 0.484375\n",
      "Index: 1\n",
      "\n"
     ]
    }
   ],
   "source": [
    "# Reranking\n",
    "documents_reranked = vo.rerank(query, documents, model=\"rerank-lite-1\", top_k=3)\n",
    "for r in documents_reranked.results:\n",
    "    print(f\"Document: {r.document}\")\n",
    "    print(f\"Relevance Score: {r.relevance_score}\")\n",
    "    print(f\"Index: {r.index}\")\n",
    "    print()"
   ]
  },
  {
   "cell_type": "code",
   "execution_count": 6,
   "metadata": {},
   "outputs": [],
   "source": [
    "def get_response(user_query):\n",
    "    try:\n",
    "        import google.generativeai as genai\n",
    "        import os\n",
    "        genai.configure(api_key=os.environ[\"GOOGLE_API_KEY\"])\n",
    "        model = genai.GenerativeModel(model_name=\"gemini-1.5-flash\")\n",
    "        response = model.generate_content(user_query)\n",
    "        from IPython.display import Markdown\n",
    "        return Markdown(response.text)\n",
    "    except Exception as e:\n",
    "        print(e)"
   ]
  },
  {
   "cell_type": "code",
   "execution_count": 7,
   "metadata": {},
   "outputs": [
    {
     "data": {
      "text/markdown": [
       "AGI stands for **Artificial General Intelligence**. It's a hypothetical type of artificial intelligence that would have the ability to **understand, learn, and apply knowledge across a wide range of tasks**, just like a human being. \n",
       "\n",
       "Here's a breakdown:\n",
       "\n",
       "* **General:** Unlike current AI systems that are specialized for specific tasks (like playing chess or translating languages), AGI would be able to perform any intellectual task that a human can.\n",
       "* **Intelligence:** AGI wouldn't just be able to follow instructions or process data; it would be able to think critically, learn from experience, and adapt to new situations.\n",
       "* **Artificial:** This means that AGI would be created by humans, rather than being a natural phenomenon.\n",
       "\n",
       "**Key characteristics of AGI:**\n",
       "\n",
       "* **Self-learning:** AGI systems would be able to learn and improve without explicit programming.\n",
       "* **Common sense reasoning:** AGI would understand and apply common sense knowledge, allowing it to navigate real-world situations.\n",
       "* **Creativity and imagination:** AGI would be able to generate original ideas and solutions.\n",
       "* **Emotional intelligence:** Some experts believe AGI may even develop emotions and empathy.\n",
       "\n",
       "**Current state of AGI:**\n",
       "\n",
       "While there has been significant progress in AI, true AGI is still considered **hypothetical**. We haven't yet achieved a system that can match the breadth and depth of human intelligence. However, research and development are ongoing, and some believe that AGI could be possible in the future.\n",
       "\n",
       "**Implications of AGI:**\n",
       "\n",
       "The potential development of AGI has profound implications for society. It could lead to:\n",
       "\n",
       "* **Advancements in many fields:** AGI could revolutionize healthcare, education, transportation, and more.\n",
       "* **Economic changes:** AGI could automate many jobs, leading to significant economic shifts.\n",
       "* **Ethical considerations:** The development and use of AGI raise many ethical questions, such as how to ensure fairness, safety, and control.\n",
       "\n",
       "**In summary, AGI is a theoretical concept that represents a significant leap forward in artificial intelligence, with the potential to transform our world in many ways.**\n"
      ],
      "text/plain": [
       "<IPython.core.display.Markdown object>"
      ]
     },
     "execution_count": 7,
     "metadata": {},
     "output_type": "execute_result"
    }
   ],
   "source": [
    "get_response(\"what is AGI\")"
   ]
  },
  {
   "cell_type": "code",
   "execution_count": null,
   "metadata": {},
   "outputs": [],
   "source": [
    "def rag_system_groq3(query: str, n_results: int):\n",
    "    document_content, document_id = retrieve_document(query, n_results)\n",
    "    finalData = []\n",
    "    import google.generativeai as genai\n",
    "    import os\n",
    "    genai.configure(api_key=os.environ[\"GOOGLE_API_KEY\"])\n",
    "    model = genai.GenerativeModel(model_name=\"gemini-1.5-flash\")\n",
    "    \n",
    "    if document_id is None:\n",
    "        return \"No relevant document found\"\n",
    "\n",
    "    for res, doc_name in zip(document_content, document_id):\n",
    "        try:\n",
    "            response = model.generate_content(f\"You are an expert in analyzing queries and their relevant context. Given the query: {query} and the context: {res}, generate a concise and accurate response. If the provided context {res} does not offer meaningful information for the query {query}, create an appropriate, concise response.\")\n",
    "                \n",
    "            finalData.append({\n",
    "                \"result\": response.text,\n",
    "                \"document_id\": doc_name\n",
    "            })\n",
    "        except Exception as e:\n",
    "            return f\"An error occurred: {str(e)}\"\n",
    "\n",
    "    return finalData\n",
    "\n",
    "class QueryRequest(BaseModel):\n",
    "    query: str\n",
    "    n_results: int\n",
    "\n",
    "@app.post(\"/rag-response-gemini\",tags=[\"Test the NHS data using RAG Approach Gemini\"])\n",
    "async def get_response(request: QueryRequest):\n",
    "    try:\n",
    "        query = request.query\n",
    "        n_results = request.n_results\n",
    "        response = rag_system_groq3(query, n_results)\n",
    "        print(\"-\" * 100)\n",
    "        print(\"Query:\", request.query)\n",
    "        print(\"-\" * 100)\n",
    "        print(\"Response:\", response)\n",
    "        print(\"-\" * 100)\n",
    "        return response\n",
    "    except Exception as e:\n",
    "        return {\"error\": str(e)}"
   ]
  },
  {
   "cell_type": "code",
   "execution_count": null,
   "metadata": {},
   "outputs": [],
   "source": [
    "class QueryRequest(BaseModel):\n",
    "    query: str\n",
    "\n",
    "@app.post(\"/med_qa_gemini\",tags=[\"Medical QA Gemini\"])\n",
    "async def generate_response(request: QueryRequest):\n",
    "    try:\n",
    "        import google.generativeai as genai\n",
    "        import os\n",
    "        genai.configure(api_key=os.environ[\"GOOGLE_API_KEY\"])\n",
    "        model = genai.GenerativeModel(model_name=\"gemini-1.5-flash\")\n",
    "        response = model.generate_content(f\"You are a medical advisor. Try to respond to the user query in short: {request.query}. Try to generate the response in Markdown format only.\")\n",
    "        response1 = model.generate_content(f\"Based on the user query: {request.query}, please generate two connected questions in a list format and do not provide a preamble.\")\n",
    "        \n",
    "        \n",
    "        # updated code\n",
    "        CQ = {\"connected_questions\": response1.text}\n",
    "        result = {\"response\": response.text}\n",
    "        result.update(CQ)\n",
    "        print(\"-\"*100)\n",
    "        print(\"Query:\",request.query)\n",
    "        print(\"-\"*100)\n",
    "        print(\"Response :\", result)\n",
    "        print(\"-\"*100)\n",
    "        \n",
    "\n",
    "        return JSONResponse(content=result)\n",
    "    except Exception as e:\n",
    "        raise HTTPException(status_code=500, detail=f\"An error occurred: {e}\")"
   ]
  },
  {
   "cell_type": "code",
   "execution_count": null,
   "metadata": {},
   "outputs": [],
   "source": [
    "class QueryRequest(BaseModel):\n",
    "    query: str\n",
    "\n",
    "@app.post(\"/gen_qa_gemini\",tags=[\"Medical QA Geminis\"])\n",
    "async def generate_response(request: QueryRequest):\n",
    "    try:\n",
    "        import google.generativeai as genai\n",
    "        import os\n",
    "        genai.configure(api_key=os.environ[\"GOOGLE_API_KEY\"])\n",
    "        model = genai.GenerativeModel(model_name=\"gemini-1.5-flash\")\n",
    "        response = model.generate_content(f\"Please respond to the user query: {request.query} in a very concise Markdown format only.\")\n",
    "        response1 = model.generate_content(f\"Based on the user query: {request.query}, please generate two connected questions in a list format and do not provide a preamble.\")\n",
    "        \n",
    "        \n",
    "        # updated code\n",
    "        CQ = {\"connected_questions\": response1.text}\n",
    "        result = {\"response\": response.text}\n",
    "        result.update(CQ)\n",
    "        print(\"-\"*100)\n",
    "        print(\"Query:\",request.query)\n",
    "        print(\"-\"*100)\n",
    "        print(\"Response :\", result)\n",
    "        print(\"-\"*100)\n",
    "        \n",
    "\n",
    "        return JSONResponse(content=result)\n",
    "    except Exception as e:\n",
    "        raise HTTPException(status_code=500, detail=f\"An error occurred: {e}\")"
   ]
  },
  {
   "cell_type": "code",
   "execution_count": null,
   "metadata": {},
   "outputs": [],
   "source": [
    "class QueryRequests(BaseModel):\n",
    "    ds: str\n",
    "\n",
    "@app.post(\"/gds-gemini\",tags=[\"Discharge summary generator gemini\"])\n",
    "async def generate_ds(request: QueryRequests):\n",
    "    try:\n",
    "        import google.generativeai as genai\n",
    "        import os\n",
    "        genai.configure(api_key=os.environ[\"GOOGLE_API_KEY\"])\n",
    "        model = genai.GenerativeModel(model_name=\"gemini-1.5-flash\")\n",
    "        response = model.generate_content(f\"\"\"\n",
    "As a medical advisor, please review the provided discharge summary {request.ds} and extract the following key details. Present the information in the structured format below without preamble:\n",
    "\n",
    "1. **Patient Information**\n",
    "   - **Age**: [Insert patient's age]\n",
    "   - **Gender**: [Insert patient's gender]\n",
    "   - **Patient ID**: [Insert patient ID]\n",
    "\n",
    "2. **Diagnosis**\n",
    "   - **Provisional or Final**: [Insert diagnosis]\n",
    "\n",
    "3. **Patient Complaints**\n",
    "   - Insert symptoms\n",
    "   - Conditions, or concerns that led to the hospital admission\n",
    "\n",
    "4. **Past History or Past Medical History**\n",
    "   - **Chronic Conditions**: [Insert chronic conditions]\n",
    "   - **Previous Surgeries**: [Insert details of previous surgeries]\n",
    "   - **Other Relevant Health Information**: [Insert any other relevant health information]\n",
    "\n",
    "5. **Personal & Family History**\n",
    "   - **Personal History**: [Insert personal health history]\n",
    "   - **Family History**: [Insert family health history]\n",
    "\n",
    "   a. **Social History**\n",
    "      - **Lifestyle Factors**: [Insert details about lifestyle factors]\n",
    "      - **Substance Use**: [Insert information about substance use]\n",
    "\n",
    "6. **Examination Findings (Clinical findings)**\n",
    "   - **Physical Examination**: [Insert details from the physical examination]\n",
    "\n",
    "      i. **Vitals**: [Insert vital signs]\n",
    "      ii. **CVS (Cardiovascular System)**: [Insert cardiovascular system findings]\n",
    "      - **RS (Respiratory System)**: [Insert respiratory system findings]\n",
    "      - **P/A (Per Abdomen)**: [Insert abdominal examination findings]\n",
    "      - **CNS (Central Nervous System)**: [Insert central nervous system findings]\n",
    "      iii. **Local Examination**: [Insert details from any local examination, if available]\n",
    "\n",
    "7. **Investigations**\n",
    "   - **Diagnostic Tests**: [Insert results of diagnostic tests]\n",
    "\n",
    "8. **Course in the Hospital**\n",
    "   - **Treatment and Progress**: [Insert details on treatment and patient progress during the hospital stay]\n",
    "      a. **Medication Given**: [Insert list of medications administered]\n",
    "      b. **Procedure Notes & Details (For Surgery Only)**: [Insert details of any surgical procedures performed]\n",
    "      c. **Post-operative Treatment (For Surgery Only)**: [Insert details on post-operative care]\n",
    "\n",
    "9. **Discharge Advice**\n",
    "   - **General Advice**: [Insert general advice provided at discharge]\n",
    "      a. **Medication**: [Insert medication instructions at discharge]\n",
    "      b. **Follow-up Details**: [Insert follow-up appointments or instructions]\n",
    "         i. **Ward Number**: [Insert ward number]\n",
    "         ii. **Ambulance Number**: [Insert ambulance number, if applicable]\n",
    "\n",
    "Please ensure that all extracted information is presented clearly and accurately according to the details in the discharge summary.\n",
    "                    \"\"\")\n",
    "        \n",
    "               \n",
    "        print(\"-\" * 100)\n",
    "        print(\"Discharge Summary:\", request.ds)\n",
    "        print(\"-\" * 100)\n",
    "        print(\"Response:\", response.text)\n",
    "        print(\"-\" * 100)\n",
    "        \n",
    "        return JSONResponse(content={\"response\": response.text})\n",
    "    except Exception as e:\n",
    "        raise HTTPException(status_code=500, detail=f\"An error occurred: {e}\")\n",
    "    "
   ]
  },
  {
   "cell_type": "code",
   "execution_count": null,
   "metadata": {},
   "outputs": [],
   "source": []
  },
  {
   "cell_type": "code",
   "execution_count": null,
   "metadata": {},
   "outputs": [],
   "source": [
    "class QueryRequest(BaseModel):\n",
    "    query: str\n",
    "\n",
    "@app.post(\"/gen_qa\",tags=[\"General QA \"])\n",
    "async def generate_response(request: QueryRequest):\n",
    "    try:\n",
    "        from groq import Groq\n",
    "        api = os.getenv(\"GROQ_API_KEY\")\n",
    "        client = Groq(api_key=api)\n",
    "        response = client.chat.completions.create(\n",
    "                messages=[\n",
    "                    {\n",
    "                        \"role\": \"user\",\n",
    "                        \"content\": f\"Please respond to the user query: {request.query} in a very concise Markdown format only.\"\n",
    "                    }\n",
    "                ],\n",
    "                model=groq_model\n",
    "            )\n",
    "        response1 = client.chat.completions.create(\n",
    "                messages=[\n",
    "                    {\n",
    "                        \"role\": \"user\",\n",
    "                        \"content\": f\"Based on the user query: {request.query}, please generate two connected questions in a list format and do not provide a preamble.\"\n",
    "                    }\n",
    "                ],\n",
    "                model=groq_model\n",
    "            )\n",
    "        \n",
    "        \n",
    "        # updated code\n",
    "        CQ = {\"connected_questions\": response1.choices[0].message.content}\n",
    "        result = {\"response\": response.choices[0].message.content}\n",
    "        result.update(CQ)\n",
    "        print(\"-\"*100)\n",
    "        print(\"Query:\",request.query)\n",
    "        print(\"-\"*100)\n",
    "        print(\"Response :\", result)\n",
    "        print(\"-\"*100)\n",
    "        \n",
    "\n",
    "        return JSONResponse(content=result)\n",
    "    except Exception as e:\n",
    "        raise HTTPException(status_code=500, detail=f\"An error occurred: {e}\")"
   ]
  }
 ],
 "metadata": {
  "kernelspec": {
   "display_name": "base",
   "language": "python",
   "name": "python3"
  },
  "language_info": {
   "codemirror_mode": {
    "name": "ipython",
    "version": 3
   },
   "file_extension": ".py",
   "mimetype": "text/x-python",
   "name": "python",
   "nbconvert_exporter": "python",
   "pygments_lexer": "ipython3",
   "version": "3.11.7"
  }
 },
 "nbformat": 4,
 "nbformat_minor": 2
}
