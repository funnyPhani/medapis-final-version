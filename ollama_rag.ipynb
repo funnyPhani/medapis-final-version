{
 "cells": [
  {
   "cell_type": "code",
   "execution_count": 1,
   "metadata": {},
   "outputs": [
    {
     "name": "stdout",
     "output_type": "stream",
     "text": [
      "Requirement already satisfied: ollama in c:\\users\\a507658\\appdata\\local\\anaconda3\\lib\\site-packages (0.2.1)\n",
      "Requirement already satisfied: chromadb in c:\\users\\a507658\\appdata\\local\\anaconda3\\lib\\site-packages (0.5.5)\n",
      "Requirement already satisfied: httpx<0.28.0,>=0.27.0 in c:\\users\\a507658\\appdata\\local\\anaconda3\\lib\\site-packages (from ollama) (0.27.0)\n",
      "Requirement already satisfied: build>=1.0.3 in c:\\users\\a507658\\appdata\\local\\anaconda3\\lib\\site-packages (from chromadb) (1.2.1)\n",
      "Requirement already satisfied: pydantic>=1.9 in c:\\users\\a507658\\appdata\\local\\anaconda3\\lib\\site-packages (from chromadb) (2.8.2)\n",
      "Requirement already satisfied: chroma-hnswlib==0.7.6 in c:\\users\\a507658\\appdata\\local\\anaconda3\\lib\\site-packages (from chromadb) (0.7.6)\n",
      "Requirement already satisfied: fastapi>=0.95.2 in c:\\users\\a507658\\appdata\\local\\anaconda3\\lib\\site-packages (from chromadb) (0.110.3)\n",
      "Requirement already satisfied: uvicorn>=0.18.3 in c:\\users\\a507658\\appdata\\local\\anaconda3\\lib\\site-packages (from uvicorn[standard]>=0.18.3->chromadb) (0.25.0)\n",
      "Requirement already satisfied: numpy<2.0.0,>=1.22.5 in c:\\users\\a507658\\appdata\\local\\anaconda3\\lib\\site-packages (from chromadb) (1.26.2)\n",
      "Requirement already satisfied: posthog>=2.4.0 in c:\\users\\a507658\\appdata\\local\\anaconda3\\lib\\site-packages (from chromadb) (3.5.0)\n",
      "Requirement already satisfied: typing-extensions>=4.5.0 in c:\\users\\a507658\\appdata\\local\\anaconda3\\lib\\site-packages (from chromadb) (4.12.2)\n",
      "Requirement already satisfied: onnxruntime>=1.14.1 in c:\\users\\a507658\\appdata\\local\\anaconda3\\lib\\site-packages (from chromadb) (1.18.0)\n",
      "Requirement already satisfied: opentelemetry-api>=1.2.0 in c:\\users\\a507658\\appdata\\local\\anaconda3\\lib\\site-packages (from chromadb) (1.25.0)\n",
      "Requirement already satisfied: opentelemetry-exporter-otlp-proto-grpc>=1.2.0 in c:\\users\\a507658\\appdata\\local\\anaconda3\\lib\\site-packages (from chromadb) (1.25.0)\n",
      "Requirement already satisfied: opentelemetry-instrumentation-fastapi>=0.41b0 in c:\\users\\a507658\\appdata\\local\\anaconda3\\lib\\site-packages (from chromadb) (0.46b0)\n",
      "Requirement already satisfied: opentelemetry-sdk>=1.2.0 in c:\\users\\a507658\\appdata\\local\\anaconda3\\lib\\site-packages (from chromadb) (1.25.0)\n",
      "Requirement already satisfied: tokenizers>=0.13.2 in c:\\users\\a507658\\appdata\\local\\anaconda3\\lib\\site-packages (from chromadb) (0.15.2)\n",
      "Requirement already satisfied: pypika>=0.48.9 in c:\\users\\a507658\\appdata\\local\\anaconda3\\lib\\site-packages (from chromadb) (0.48.9)\n",
      "Requirement already satisfied: tqdm>=4.65.0 in c:\\users\\a507658\\appdata\\local\\anaconda3\\lib\\site-packages (from chromadb) (4.66.4)\n",
      "Requirement already satisfied: overrides>=7.3.1 in c:\\users\\a507658\\appdata\\local\\anaconda3\\lib\\site-packages (from chromadb) (7.4.0)\n",
      "Requirement already satisfied: importlib-resources in c:\\users\\a507658\\appdata\\local\\anaconda3\\lib\\site-packages (from chromadb) (6.4.0)\n",
      "Requirement already satisfied: grpcio>=1.58.0 in c:\\users\\a507658\\appdata\\local\\anaconda3\\lib\\site-packages (from chromadb) (1.64.1)\n",
      "Requirement already satisfied: bcrypt>=4.0.1 in c:\\users\\a507658\\appdata\\local\\anaconda3\\lib\\site-packages (from chromadb) (4.2.0)\n",
      "Requirement already satisfied: typer>=0.9.0 in c:\\users\\a507658\\appdata\\local\\anaconda3\\lib\\site-packages (from chromadb) (0.12.3)\n",
      "Requirement already satisfied: kubernetes>=28.1.0 in c:\\users\\a507658\\appdata\\local\\anaconda3\\lib\\site-packages (from chromadb) (30.1.0)\n",
      "Requirement already satisfied: tenacity>=8.2.3 in c:\\users\\a507658\\appdata\\local\\anaconda3\\lib\\site-packages (from chromadb) (8.5.0)\n",
      "Requirement already satisfied: PyYAML>=6.0.0 in c:\\users\\a507658\\appdata\\local\\anaconda3\\lib\\site-packages (from chromadb) (6.0.1)\n",
      "Requirement already satisfied: mmh3>=4.0.1 in c:\\users\\a507658\\appdata\\local\\anaconda3\\lib\\site-packages (from chromadb) (4.1.0)\n",
      "Requirement already satisfied: orjson>=3.9.12 in c:\\users\\a507658\\appdata\\local\\anaconda3\\lib\\site-packages (from chromadb) (3.10.5)\n",
      "Requirement already satisfied: packaging>=19.1 in c:\\users\\a507658\\appdata\\local\\anaconda3\\lib\\site-packages (from build>=1.0.3->chromadb) (24.1)\n",
      "Requirement already satisfied: pyproject_hooks in c:\\users\\a507658\\appdata\\local\\anaconda3\\lib\\site-packages (from build>=1.0.3->chromadb) (1.1.0)\n",
      "Requirement already satisfied: colorama in c:\\users\\a507658\\appdata\\local\\anaconda3\\lib\\site-packages (from build>=1.0.3->chromadb) (0.4.6)\n",
      "Requirement already satisfied: starlette<0.38.0,>=0.37.2 in c:\\users\\a507658\\appdata\\local\\anaconda3\\lib\\site-packages (from fastapi>=0.95.2->chromadb) (0.37.2)\n",
      "Requirement already satisfied: anyio in c:\\users\\a507658\\appdata\\local\\anaconda3\\lib\\site-packages (from httpx<0.28.0,>=0.27.0->ollama) (3.7.1)\n",
      "Requirement already satisfied: certifi in c:\\users\\a507658\\appdata\\local\\anaconda3\\lib\\site-packages (from httpx<0.28.0,>=0.27.0->ollama) (2024.7.4)\n",
      "Requirement already satisfied: httpcore==1.* in c:\\users\\a507658\\appdata\\local\\anaconda3\\lib\\site-packages (from httpx<0.28.0,>=0.27.0->ollama) (1.0.5)\n",
      "Requirement already satisfied: idna in c:\\users\\a507658\\appdata\\local\\anaconda3\\lib\\site-packages (from httpx<0.28.0,>=0.27.0->ollama) (2.10)\n",
      "Requirement already satisfied: sniffio in c:\\users\\a507658\\appdata\\local\\anaconda3\\lib\\site-packages (from httpx<0.28.0,>=0.27.0->ollama) (1.3.0)\n",
      "Requirement already satisfied: h11<0.15,>=0.13 in c:\\users\\a507658\\appdata\\local\\anaconda3\\lib\\site-packages (from httpcore==1.*->httpx<0.28.0,>=0.27.0->ollama) (0.14.0)\n",
      "Requirement already satisfied: six>=1.9.0 in c:\\users\\a507658\\appdata\\local\\anaconda3\\lib\\site-packages (from kubernetes>=28.1.0->chromadb) (1.16.0)\n",
      "Requirement already satisfied: python-dateutil>=2.5.3 in c:\\users\\a507658\\appdata\\local\\anaconda3\\lib\\site-packages (from kubernetes>=28.1.0->chromadb) (2.8.2)\n",
      "Requirement already satisfied: google-auth>=1.0.1 in c:\\users\\a507658\\appdata\\local\\anaconda3\\lib\\site-packages (from kubernetes>=28.1.0->chromadb) (2.31.0)\n",
      "Requirement already satisfied: websocket-client!=0.40.0,!=0.41.*,!=0.42.*,>=0.32.0 in c:\\users\\a507658\\appdata\\local\\anaconda3\\lib\\site-packages (from kubernetes>=28.1.0->chromadb) (0.58.0)\n",
      "Requirement already satisfied: requests in c:\\users\\a507658\\appdata\\local\\anaconda3\\lib\\site-packages (from kubernetes>=28.1.0->chromadb) (2.32.3)\n",
      "Requirement already satisfied: requests-oauthlib in c:\\users\\a507658\\appdata\\local\\anaconda3\\lib\\site-packages (from kubernetes>=28.1.0->chromadb) (2.0.0)\n",
      "Requirement already satisfied: oauthlib>=3.2.2 in c:\\users\\a507658\\appdata\\local\\anaconda3\\lib\\site-packages (from kubernetes>=28.1.0->chromadb) (3.2.2)\n",
      "Requirement already satisfied: urllib3>=1.24.2 in c:\\users\\a507658\\appdata\\local\\anaconda3\\lib\\site-packages (from kubernetes>=28.1.0->chromadb) (2.0.7)\n",
      "Requirement already satisfied: coloredlogs in c:\\users\\a507658\\appdata\\local\\anaconda3\\lib\\site-packages (from onnxruntime>=1.14.1->chromadb) (15.0.1)\n",
      "Requirement already satisfied: flatbuffers in c:\\users\\a507658\\appdata\\local\\anaconda3\\lib\\site-packages (from onnxruntime>=1.14.1->chromadb) (24.3.25)\n",
      "Requirement already satisfied: protobuf in c:\\users\\a507658\\appdata\\local\\anaconda3\\lib\\site-packages (from onnxruntime>=1.14.1->chromadb) (3.20.3)\n",
      "Requirement already satisfied: sympy in c:\\users\\a507658\\appdata\\local\\anaconda3\\lib\\site-packages (from onnxruntime>=1.14.1->chromadb) (1.12)\n",
      "Requirement already satisfied: deprecated>=1.2.6 in c:\\users\\a507658\\appdata\\local\\anaconda3\\lib\\site-packages (from opentelemetry-api>=1.2.0->chromadb) (1.2.14)\n",
      "Requirement already satisfied: importlib-metadata<=7.1,>=6.0 in c:\\users\\a507658\\appdata\\local\\anaconda3\\lib\\site-packages (from opentelemetry-api>=1.2.0->chromadb) (7.0.1)\n",
      "Requirement already satisfied: googleapis-common-protos~=1.52 in c:\\users\\a507658\\appdata\\local\\anaconda3\\lib\\site-packages (from opentelemetry-exporter-otlp-proto-grpc>=1.2.0->chromadb) (1.63.2)\n",
      "Requirement already satisfied: opentelemetry-exporter-otlp-proto-common==1.25.0 in c:\\users\\a507658\\appdata\\local\\anaconda3\\lib\\site-packages (from opentelemetry-exporter-otlp-proto-grpc>=1.2.0->chromadb) (1.25.0)\n",
      "Requirement already satisfied: opentelemetry-proto==1.25.0 in c:\\users\\a507658\\appdata\\local\\anaconda3\\lib\\site-packages (from opentelemetry-exporter-otlp-proto-grpc>=1.2.0->chromadb) (1.25.0)\n",
      "Requirement already satisfied: opentelemetry-instrumentation-asgi==0.46b0 in c:\\users\\a507658\\appdata\\local\\anaconda3\\lib\\site-packages (from opentelemetry-instrumentation-fastapi>=0.41b0->chromadb) (0.46b0)\n",
      "Requirement already satisfied: opentelemetry-instrumentation==0.46b0 in c:\\users\\a507658\\appdata\\local\\anaconda3\\lib\\site-packages (from opentelemetry-instrumentation-fastapi>=0.41b0->chromadb) (0.46b0)\n",
      "Requirement already satisfied: opentelemetry-semantic-conventions==0.46b0 in c:\\users\\a507658\\appdata\\local\\anaconda3\\lib\\site-packages (from opentelemetry-instrumentation-fastapi>=0.41b0->chromadb) (0.46b0)\n",
      "Requirement already satisfied: opentelemetry-util-http==0.46b0 in c:\\users\\a507658\\appdata\\local\\anaconda3\\lib\\site-packages (from opentelemetry-instrumentation-fastapi>=0.41b0->chromadb) (0.46b0)\n",
      "Requirement already satisfied: setuptools>=16.0 in c:\\users\\a507658\\appdata\\local\\anaconda3\\lib\\site-packages (from opentelemetry-instrumentation==0.46b0->opentelemetry-instrumentation-fastapi>=0.41b0->chromadb) (68.2.2)\n",
      "Requirement already satisfied: wrapt<2.0.0,>=1.0.0 in c:\\users\\a507658\\appdata\\local\\anaconda3\\lib\\site-packages (from opentelemetry-instrumentation==0.46b0->opentelemetry-instrumentation-fastapi>=0.41b0->chromadb) (1.14.1)\n",
      "Requirement already satisfied: asgiref~=3.0 in c:\\users\\a507658\\appdata\\local\\anaconda3\\lib\\site-packages (from opentelemetry-instrumentation-asgi==0.46b0->opentelemetry-instrumentation-fastapi>=0.41b0->chromadb) (3.8.1)\n",
      "Requirement already satisfied: monotonic>=1.5 in c:\\users\\a507658\\appdata\\local\\anaconda3\\lib\\site-packages (from posthog>=2.4.0->chromadb) (1.6)\n",
      "Requirement already satisfied: backoff>=1.10.0 in c:\\users\\a507658\\appdata\\local\\anaconda3\\lib\\site-packages (from posthog>=2.4.0->chromadb) (2.2.1)\n",
      "Requirement already satisfied: annotated-types>=0.4.0 in c:\\users\\a507658\\appdata\\local\\anaconda3\\lib\\site-packages (from pydantic>=1.9->chromadb) (0.7.0)\n",
      "Requirement already satisfied: pydantic-core==2.20.1 in c:\\users\\a507658\\appdata\\local\\anaconda3\\lib\\site-packages (from pydantic>=1.9->chromadb) (2.20.1)\n",
      "Requirement already satisfied: huggingface_hub<1.0,>=0.16.4 in c:\\users\\a507658\\appdata\\local\\anaconda3\\lib\\site-packages (from tokenizers>=0.13.2->chromadb) (0.23.4)\n",
      "Requirement already satisfied: click>=8.0.0 in c:\\users\\a507658\\appdata\\local\\anaconda3\\lib\\site-packages (from typer>=0.9.0->chromadb) (8.1.7)\n",
      "Requirement already satisfied: shellingham>=1.3.0 in c:\\users\\a507658\\appdata\\local\\anaconda3\\lib\\site-packages (from typer>=0.9.0->chromadb) (1.5.4)\n",
      "Requirement already satisfied: rich>=10.11.0 in c:\\users\\a507658\\appdata\\local\\anaconda3\\lib\\site-packages (from typer>=0.9.0->chromadb) (13.3.5)\n",
      "Requirement already satisfied: httptools>=0.5.0 in c:\\users\\a507658\\appdata\\local\\anaconda3\\lib\\site-packages (from uvicorn[standard]>=0.18.3->chromadb) (0.6.1)\n",
      "Requirement already satisfied: python-dotenv>=0.13 in c:\\users\\a507658\\appdata\\local\\anaconda3\\lib\\site-packages (from uvicorn[standard]>=0.18.3->chromadb) (1.0.1)\n",
      "Requirement already satisfied: watchfiles>=0.13 in c:\\users\\a507658\\appdata\\local\\anaconda3\\lib\\site-packages (from uvicorn[standard]>=0.18.3->chromadb) (0.20.0)\n",
      "Requirement already satisfied: websockets>=10.4 in c:\\users\\a507658\\appdata\\local\\anaconda3\\lib\\site-packages (from uvicorn[standard]>=0.18.3->chromadb) (11.0.3)\n",
      "Requirement already satisfied: cachetools<6.0,>=2.0.0 in c:\\users\\a507658\\appdata\\local\\anaconda3\\lib\\site-packages (from google-auth>=1.0.1->kubernetes>=28.1.0->chromadb) (4.2.2)\n",
      "Requirement already satisfied: pyasn1-modules>=0.2.1 in c:\\users\\a507658\\appdata\\local\\anaconda3\\lib\\site-packages (from google-auth>=1.0.1->kubernetes>=28.1.0->chromadb) (0.2.8)\n",
      "Requirement already satisfied: rsa<5,>=3.1.4 in c:\\users\\a507658\\appdata\\local\\anaconda3\\lib\\site-packages (from google-auth>=1.0.1->kubernetes>=28.1.0->chromadb) (4.9)\n",
      "Requirement already satisfied: filelock in c:\\users\\a507658\\appdata\\local\\anaconda3\\lib\\site-packages (from huggingface_hub<1.0,>=0.16.4->tokenizers>=0.13.2->chromadb) (3.13.1)\n",
      "Requirement already satisfied: fsspec>=2023.5.0 in c:\\users\\a507658\\appdata\\local\\anaconda3\\lib\\site-packages (from huggingface_hub<1.0,>=0.16.4->tokenizers>=0.13.2->chromadb) (2023.10.0)\n",
      "Requirement already satisfied: zipp>=0.5 in c:\\users\\a507658\\appdata\\local\\anaconda3\\lib\\site-packages (from importlib-metadata<=7.1,>=6.0->opentelemetry-api>=1.2.0->chromadb) (3.17.0)\n",
      "Requirement already satisfied: charset-normalizer<4,>=2 in c:\\users\\a507658\\appdata\\local\\anaconda3\\lib\\site-packages (from requests->kubernetes>=28.1.0->chromadb) (2.0.4)\n",
      "Requirement already satisfied: markdown-it-py<3.0.0,>=2.2.0 in c:\\users\\a507658\\appdata\\local\\anaconda3\\lib\\site-packages (from rich>=10.11.0->typer>=0.9.0->chromadb) (2.2.0)\n",
      "Requirement already satisfied: pygments<3.0.0,>=2.13.0 in c:\\users\\a507658\\appdata\\local\\anaconda3\\lib\\site-packages (from rich>=10.11.0->typer>=0.9.0->chromadb) (2.15.1)\n",
      "Requirement already satisfied: humanfriendly>=9.1 in c:\\users\\a507658\\appdata\\local\\anaconda3\\lib\\site-packages (from coloredlogs->onnxruntime>=1.14.1->chromadb) (10.0)\n",
      "Requirement already satisfied: mpmath>=0.19 in c:\\users\\a507658\\appdata\\local\\anaconda3\\lib\\site-packages (from sympy->onnxruntime>=1.14.1->chromadb) (1.3.0)\n",
      "Requirement already satisfied: pyreadline3 in c:\\users\\a507658\\appdata\\local\\anaconda3\\lib\\site-packages (from humanfriendly>=9.1->coloredlogs->onnxruntime>=1.14.1->chromadb) (3.4.1)\n",
      "Requirement already satisfied: mdurl~=0.1 in c:\\users\\a507658\\appdata\\local\\anaconda3\\lib\\site-packages (from markdown-it-py<3.0.0,>=2.2.0->rich>=10.11.0->typer>=0.9.0->chromadb) (0.1.0)\n",
      "Requirement already satisfied: pyasn1<0.5.0,>=0.4.6 in c:\\users\\a507658\\appdata\\local\\anaconda3\\lib\\site-packages (from pyasn1-modules>=0.2.1->google-auth>=1.0.1->kubernetes>=28.1.0->chromadb) (0.4.8)\n"
     ]
    }
   ],
   "source": [
    "!pip install ollama chromadb"
   ]
  },
  {
   "cell_type": "code",
   "execution_count": 2,
   "metadata": {},
   "outputs": [],
   "source": [
    "import ollama\n",
    "import chromadb\n",
    "\n",
    "documents = [\n",
    "  \"Llamas are members of the camelid family meaning they're pretty closely related to vicuñas and camels\",\n",
    "  \"Llamas were first domesticated and used as pack animals 4,000 to 5,000 years ago in the Peruvian highlands\",\n",
    "  \"Llamas can grow as much as 6 feet tall though the average llama between 5 feet 6 inches and 5 feet 9 inches tall\",\n",
    "  \"Llamas weigh between 280 and 450 pounds and can carry 25 to 30 percent of their body weight\",\n",
    "  \"Llamas are vegetarians and have very efficient digestive systems\",\n",
    "  \"Llamas live to be about 20 years old, though some only live for 15 years and others live to be 30 years old\",\n",
    "]\n",
    "\n",
    "client = chromadb.Client()\n",
    "collection = client.create_collection(name=\"docs\")\n",
    "\n",
    "# store each document in a vector embedding database\n",
    "for i, d in enumerate(documents):\n",
    "  response = ollama.embeddings(model=\"mxbai-embed-large\", prompt=d)\n",
    "  embedding = response[\"embedding\"]\n",
    "  collection.add(\n",
    "    ids=[str(i)],\n",
    "    embeddings=[embedding],\n",
    "    documents=[d]\n",
    "  )"
   ]
  },
  {
   "cell_type": "code",
   "execution_count": 3,
   "metadata": {},
   "outputs": [
    {
     "data": {
      "text/plain": [
       "\"Llamas are members of the camelid family meaning they're pretty closely related to vicuñas and camels\""
      ]
     },
     "execution_count": 3,
     "metadata": {},
     "output_type": "execute_result"
    }
   ],
   "source": [
    "# an example prompt\n",
    "prompt = \"What animals are llamas related to?\"\n",
    "\n",
    "# generate an embedding for the prompt and retrieve the most relevant doc\n",
    "response = ollama.embeddings(\n",
    "  prompt=prompt,\n",
    "  model=\"mxbai-embed-large\"\n",
    ")\n",
    "results = collection.query(\n",
    "  query_embeddings=[response[\"embedding\"]],\n",
    "  n_results=1\n",
    ")\n",
    "data = results['documents'][0][0]\n",
    "data"
   ]
  },
  {
   "cell_type": "code",
   "execution_count": 4,
   "metadata": {},
   "outputs": [
    {
     "name": "stdout",
     "output_type": "stream",
     "text": [
      "Llamas are closely related to vicuñas, camels, and other members of the camelid family.\n"
     ]
    }
   ],
   "source": [
    "# generate a response combining the prompt and data we retrieved in step 2\n",
    "output = ollama.generate(\n",
    "  model=\"llama3.1:latest\",\n",
    "  prompt=f\"Using this data: {data}. Respond to this prompt: {prompt}\"\n",
    ")\n",
    "\n",
    "print(output['response'])"
   ]
  },
  {
   "cell_type": "code",
   "execution_count": 11,
   "metadata": {},
   "outputs": [],
   "source": [
    "# import ollama\n",
    "\n",
    "# # Open the image file as a file-like object\n",
    "# with open('dbce3856-7dca-4040-a96d-ce811cefc43e.jpg', 'rb') as image_file:\n",
    "#     # Interact with the LLAVA model, passing the image as a file-like object\n",
    "#     res = ollama.chat(\n",
    "#         model=\"llava:latest\",\n",
    "#         messages=[\n",
    "#             {\n",
    "#                 'role': 'user',\n",
    "#                 'content': 'Describe this image:',\n",
    "#                 'images': [image_file]\n",
    "#             }\n",
    "#         ]\n",
    "#     )\n",
    "\n",
    "# # Print the model's response\n",
    "# print(res['message']['content'])\n"
   ]
  },
  {
   "cell_type": "code",
   "execution_count": 8,
   "metadata": {},
   "outputs": [
    {
     "data": {
      "text/plain": [
       "'c:\\\\Users\\\\A507658\\\\Downloads\\\\docker_wishper\\\\RAG'"
      ]
     },
     "execution_count": 8,
     "metadata": {},
     "output_type": "execute_result"
    }
   ],
   "source": [
    "pwd"
   ]
  },
  {
   "cell_type": "code",
   "execution_count": 12,
   "metadata": {},
   "outputs": [
    {
     "name": "stdout",
     "output_type": "stream",
     "text": [
      " AI stands for Artificial Intelligence, which refers to the development of computer systems that can perform tasks typically requiring human intelligence, such as understanding natural language, recognizing objects in images, and playing games. \n"
     ]
    }
   ],
   "source": [
    "import ollama\n",
    "\n",
    "# Using the ollama.chat function to interact with the LLAVA model\n",
    "res = ollama.chat(\n",
    "    model=\"llava:latest\",\n",
    "    messages=[\n",
    "        {\n",
    "            'role': 'user',\n",
    "            'content': 'What is AI?',\n",
    "            \n",
    "        }\n",
    "    ]\n",
    ")\n",
    "\n",
    "# Printing the response from the model\n",
    "print(res['message']['content'])\n"
   ]
  },
  {
   "cell_type": "code",
   "execution_count": 5,
   "metadata": {},
   "outputs": [
    {
     "name": "stdout",
     "output_type": "stream",
     "text": [
      "Embeddings created and stored in ChromaDB.\n"
     ]
    }
   ],
   "source": [
    "import ollama\n",
    "import os\n",
    "import chromadb\n",
    "\n",
    "data_dir = 'NHSData/'\n",
    "\n",
    "\n",
    "client = chromadb.PersistentClient(path=\"db/\")\n",
    "\n",
    "collection = client.get_or_create_collection(\"readme_collection\")\n",
    "\n",
    "for filename in os.listdir(data_dir):\n",
    "    if filename.endswith('.md'):\n",
    "        with open(os.path.join(data_dir, filename), 'r', encoding='utf-8') as file:\n",
    "            content = file.read()\n",
    "            embeddings = ollama.embeddings(\n",
    "                            model='mxbai-embed-large',\n",
    "                            prompt=content,\n",
    "                            )\n",
    "            # Add document and its embedding to the collection\n",
    "            collection.add(\n",
    "                ids=[filename], \n",
    "                documents=[content], \n",
    "                embeddings=[embeddings['embedding']]\n",
    "            )\n",
    "\n",
    "print(\"Embeddings created and stored in ChromaDB.\")\n"
   ]
  },
  {
   "cell_type": "code",
   "execution_count": 1,
   "metadata": {},
   "outputs": [],
   "source": [
    "import ollama\n",
    "import chromadb\n",
    "\n",
    "client = chromadb.PersistentClient(path=\"db/\")\n",
    "collection = client.get_collection(\"readme_collection\")\n",
    "\n",
    "def retrieve_document(query,n_results):\n",
    "    query_embedding = ollama.embeddings(\n",
    "                            model='mxbai-embed-large',\n",
    "                            prompt=query,\n",
    "                            )\n",
    "    results = collection.query(\n",
    "        query_embeddings=[query_embedding['embedding']],\n",
    "        n_results=n_results\n",
    "    )\n",
    "    if results['documents']:\n",
    "        return results['documents'][0], results['ids'][0]\n",
    "    else:\n",
    "        return \"No relevant document found\", None\n",
    "\n",
    "\n"
   ]
  },
  {
   "cell_type": "code",
   "execution_count": 69,
   "metadata": {},
   "outputs": [
    {
     "data": {
      "text/html": [
       "<pre style=\"white-space:pre;overflow-x:auto;line-height:normal;font-family:Menlo,'DejaVu Sans Mono',consolas,'Courier New',monospace\"><span style=\"font-weight: bold\">[</span>\n",
       "    <span style=\"font-weight: bold\">{</span>\n",
       "        <span style=\"color: #008000; text-decoration-color: #008000\">'result'</span>: <span style=\"color: #008000; text-decoration-color: #008000\">'Yellow fever is a serious infection spread by mosquitoes, found in certain areas of Africa and </span>\n",
       "<span style=\"color: #008000; text-decoration-color: #008000\">South America. Symptoms include high temperature, headache, feeling unwell, and jaundice (yellowing of the skin and</span>\n",
       "<span style=\"color: #008000; text-decoration-color: #008000\">eyes). Treatment involves rest, hydration, and pain management; severe cases require hospitalization.'</span>,\n",
       "        <span style=\"color: #008000; text-decoration-color: #008000\">'document_id'</span>: <span style=\"color: #008000; text-decoration-color: #008000\">'yellow-fever.md'</span>\n",
       "    <span style=\"font-weight: bold\">}</span>,\n",
       "    <span style=\"font-weight: bold\">{</span>\n",
       "        <span style=\"color: #008000; text-decoration-color: #008000\">'result'</span>: <span style=\"color: #008000; text-decoration-color: #008000\">'The provided content is not relevant to the query \"What is yellow fever?\" as it discusses bird </span>\n",
       "<span style=\"color: #008000; text-decoration-color: #008000\">flu, a different infectious disease. However, if we were to focus on providing context for analyzing queries about </span>\n",
       "<span style=\"color: #008000; text-decoration-color: #008000\">infectious diseases, here\\'s a possible response:\\n\\nWhen analyzing queries about infectious diseases like bird flu</span>\n",
       "<span style=\"color: #008000; text-decoration-color: #008000\">or yellow fever, it\\'s essential to consider various factors such as the type of virus, its transmission routes, </span>\n",
       "<span style=\"color: #008000; text-decoration-color: #008000\">symptoms, and potential complications. This information can help provide accurate answers and ensure public health </span>\n",
       "<span style=\"color: #008000; text-decoration-color: #008000\">guidelines are followed.\\n\\nIn this case, since there is no relevant context for yellow fever in the provided </span>\n",
       "<span style=\"color: #008000; text-decoration-color: #008000\">content, a direct answer would be:\\n\\nYellow fever is not discussed in the provided content, which focuses on bird </span>\n",
       "<span style=\"color: #008000; text-decoration-color: #008000\">flu.'</span>,\n",
       "        <span style=\"color: #008000; text-decoration-color: #008000\">'document_id'</span>: <span style=\"color: #008000; text-decoration-color: #008000\">'bird-flu.md'</span>\n",
       "    <span style=\"font-weight: bold\">}</span>\n",
       "<span style=\"font-weight: bold\">]</span>\n",
       "</pre>\n"
      ],
      "text/plain": [
       "\u001b[1m[\u001b[0m\n",
       "    \u001b[1m{\u001b[0m\n",
       "        \u001b[32m'result'\u001b[0m: \u001b[32m'Yellow fever is a serious infection spread by mosquitoes, found in certain areas of Africa and \u001b[0m\n",
       "\u001b[32mSouth America. Symptoms include high temperature, headache, feeling unwell, and jaundice \u001b[0m\u001b[32m(\u001b[0m\u001b[32myellowing of the skin and\u001b[0m\n",
       "\u001b[32meyes\u001b[0m\u001b[32m)\u001b[0m\u001b[32m. Treatment involves rest, hydration, and pain management; severe cases require hospitalization.'\u001b[0m,\n",
       "        \u001b[32m'document_id'\u001b[0m: \u001b[32m'yellow-fever.md'\u001b[0m\n",
       "    \u001b[1m}\u001b[0m,\n",
       "    \u001b[1m{\u001b[0m\n",
       "        \u001b[32m'result'\u001b[0m: \u001b[32m'The provided content is not relevant to the query \"What is yellow fever?\" as it discusses bird \u001b[0m\n",
       "\u001b[32mflu, a different infectious disease. However, if we were to focus on providing context for analyzing queries about \u001b[0m\n",
       "\u001b[32minfectious diseases, here\\'s a possible response:\\n\\nWhen analyzing queries about infectious diseases like bird flu\u001b[0m\n",
       "\u001b[32mor yellow fever, it\\'s essential to consider various factors such as the type of virus, its transmission routes, \u001b[0m\n",
       "\u001b[32msymptoms, and potential complications. This information can help provide accurate answers and ensure public health \u001b[0m\n",
       "\u001b[32mguidelines are followed.\\n\\nIn this case, since there is no relevant context for yellow fever in the provided \u001b[0m\n",
       "\u001b[32mcontent, a direct answer would be:\\n\\nYellow fever is not discussed in the provided content, which focuses on bird \u001b[0m\n",
       "\u001b[32mflu.'\u001b[0m,\n",
       "        \u001b[32m'document_id'\u001b[0m: \u001b[32m'bird-flu.md'\u001b[0m\n",
       "    \u001b[1m}\u001b[0m\n",
       "\u001b[1m]\u001b[0m\n"
      ]
     },
     "metadata": {},
     "output_type": "display_data"
    }
   ],
   "source": [
    "def rag_system(query,n_results):\n",
    "    document_content, document_id = retrieve_document(query,n_results)\n",
    "    finalData = []\n",
    "    if document_id is None:\n",
    "        return \"No relevant document found\"\n",
    "    for res,doc_name in zip(document_content,document_id):\n",
    "        try:\n",
    "            response = ollama.chat(\n",
    "                model=\"llama3.1:latest\",\n",
    "                messages=[\n",
    "                    {'role': 'user', 'content': f\"You are expect in analysing the query: {query} and the relevant context for the provided query as follows {res}. Based on it try to generate concise response which should be very short and accurate response.\"},\n",
    "                ]\n",
    "            )\n",
    "            finalData.append({\"result\":response['message']['content'],\"document_id\":doc_name})\n",
    "        except Exception as e:\n",
    "            return f\"An error occurred: {str(e)}\"\n",
    "    return finalData\n",
    "\n",
    "\n",
    "query = \"What is yellow fever?\"\n",
    "response = rag_system(query,2)\n",
    "from rich import print\n",
    "print(response)"
   ]
  },
  {
   "cell_type": "code",
   "execution_count": 2,
   "metadata": {},
   "outputs": [
    {
     "data": {
      "text/html": [
       "<pre style=\"white-space:pre;overflow-x:auto;line-height:normal;font-family:Menlo,'DejaVu Sans Mono',consolas,'Courier New',monospace\"><span style=\"font-weight: bold\">[</span>\n",
       "    <span style=\"font-weight: bold\">{</span>\n",
       "        <span style=\"color: #008000; text-decoration-color: #008000\">'result'</span>: <span style=\"color: #008000; text-decoration-color: #008000\">'Yellow fever is a serious infection spread by mosquitoes, commonly found in certain areas of </span>\n",
       "<span style=\"color: #008000; text-decoration-color: #008000\">Africa and South and Central America. It can be prevented with a yellow fever vaccination, especially for travelers</span>\n",
       "<span style=\"color: #008000; text-decoration-color: #008000\">to high-risk areas. If infected, symptoms may include high temperature, headache, and flu-like symptoms, which can </span>\n",
       "<span style=\"color: #008000; text-decoration-color: #008000\">lead to more severe and potentially life-threatening symptoms such as jaundice, dark urine, and bleeding.'</span>,\n",
       "        <span style=\"color: #008000; text-decoration-color: #008000\">'document_id'</span>: <span style=\"color: #008000; text-decoration-color: #008000\">'yellow-fever.md'</span>\n",
       "    <span style=\"font-weight: bold\">}</span>,\n",
       "    <span style=\"font-weight: bold\">{</span>\n",
       "        <span style=\"color: #008000; text-decoration-color: #008000\">'result'</span>: <span style=\"color: #008000; text-decoration-color: #008000\">\"I apologize, but the provided context is about bird flu and does not mention yellow fever. </span>\n",
       "<span style=\"color: #008000; text-decoration-color: #008000\">Yellow fever is a different disease, and I don't have enough information to provide an accurate response based on </span>\n",
       "<span style=\"color: #008000; text-decoration-color: #008000\">the given context.\\n\\nHowever, I can provide a brief general answer: Yellow fever is a viral disease transmitted by</span>\n",
       "<span style=\"color: #008000; text-decoration-color: #008000\">mosquitoes, primarily affecting humans and monkeys. It's commonly found in tropical and subtropical regions of </span>\n",
       "<span style=\"color: #008000; text-decoration-color: #008000\">Africa and South America. Symptoms can range from mild to severe, including fever, chills, and vomiting. In severe </span>\n",
       "<span style=\"color: #008000; text-decoration-color: #008000\">cases, it can lead to hemorrhaging, organ failure, and even death. Vaccination is the most effective way to prevent</span>\n",
       "<span style=\"color: #008000; text-decoration-color: #008000\">yellow fever.\\n\\nIf you have any more specific questions or would like more information on yellow fever, I'd be </span>\n",
       "<span style=\"color: #008000; text-decoration-color: #008000\">happy to help.\"</span>,\n",
       "        <span style=\"color: #008000; text-decoration-color: #008000\">'document_id'</span>: <span style=\"color: #008000; text-decoration-color: #008000\">'bird-flu.md'</span>\n",
       "    <span style=\"font-weight: bold\">}</span>\n",
       "<span style=\"font-weight: bold\">]</span>\n",
       "</pre>\n"
      ],
      "text/plain": [
       "\u001b[1m[\u001b[0m\n",
       "    \u001b[1m{\u001b[0m\n",
       "        \u001b[32m'result'\u001b[0m: \u001b[32m'Yellow fever is a serious infection spread by mosquitoes, commonly found in certain areas of \u001b[0m\n",
       "\u001b[32mAfrica and South and Central America. It can be prevented with a yellow fever vaccination, especially for travelers\u001b[0m\n",
       "\u001b[32mto high-risk areas. If infected, symptoms may include high temperature, headache, and flu-like symptoms, which can \u001b[0m\n",
       "\u001b[32mlead to more severe and potentially life-threatening symptoms such as jaundice, dark urine, and bleeding.'\u001b[0m,\n",
       "        \u001b[32m'document_id'\u001b[0m: \u001b[32m'yellow-fever.md'\u001b[0m\n",
       "    \u001b[1m}\u001b[0m,\n",
       "    \u001b[1m{\u001b[0m\n",
       "        \u001b[32m'result'\u001b[0m: \u001b[32m\"I apologize, but the provided context is about bird flu and does not mention yellow fever. \u001b[0m\n",
       "\u001b[32mYellow fever is a different disease, and I don't have enough information to provide an accurate response based on \u001b[0m\n",
       "\u001b[32mthe given context.\\n\\nHowever, I can provide a brief general answer: Yellow fever is a viral disease transmitted by\u001b[0m\n",
       "\u001b[32mmosquitoes, primarily affecting humans and monkeys. It's commonly found in tropical and subtropical regions of \u001b[0m\n",
       "\u001b[32mAfrica and South America. Symptoms can range from mild to severe, including fever, chills, and vomiting. In severe \u001b[0m\n",
       "\u001b[32mcases, it can lead to hemorrhaging, organ failure, and even death. Vaccination is the most effective way to prevent\u001b[0m\n",
       "\u001b[32myellow fever.\\n\\nIf you have any more specific questions or would like more information on yellow fever, I'd be \u001b[0m\n",
       "\u001b[32mhappy to help.\"\u001b[0m,\n",
       "        \u001b[32m'document_id'\u001b[0m: \u001b[32m'bird-flu.md'\u001b[0m\n",
       "    \u001b[1m}\u001b[0m\n",
       "\u001b[1m]\u001b[0m\n"
      ]
     },
     "metadata": {},
     "output_type": "display_data"
    }
   ],
   "source": [
    "def rag_system_groq(query,n_results):\n",
    "    import os\n",
    "    api = \"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\"\n",
    "    from groq import Groq\n",
    "    client = Groq(\n",
    "    api_key=api,\n",
    ")\n",
    "    document_content, document_id = retrieve_document(query,n_results)\n",
    "    finalData = []\n",
    "    if document_id is None:\n",
    "        return \"No relevant document found\"\n",
    "    for res,doc_name in zip(document_content,document_id):\n",
    "        try:\n",
    "            chat_completion = client.chat.completions.create(\n",
    "                                                        messages=[\n",
    "                                                            {\n",
    "                                                                \"role\": \"user\",\n",
    "                                                                \"content\": f\"You are an expert in analyzing queries and their relevant context. Given the query: {query} and the context: {res}, generate a concise and accurate response. If the provided context {res} does not offer meaningful information for the query {query}, create an appropriate, concise response instead.\"\n",
    "                                                                # \"You are expect in analysing the query: {query} and the relevant context for the provided query as follows {res}. Based on it try to generate concise response which should be very short and accurate response. if the context {res} does not provided meaningful information for the query {query}. Then try to generate appripiate response in consise version.\",\n",
    "                                                            }\n",
    "                                                        ],\n",
    "                                                        model=\"llama3-70b-8192\")\n",
    "\n",
    "            # response = ollama.chat(\n",
    "            #     model=\"llama3.1:latest\",\n",
    "            #     messages=[\n",
    "            #         {'role': 'user', 'content': f\"You are expect in analysing the query: {query} and the relevant context for the provided query as follows {res}. Based on it try to generate concise response which should be very short and accurate response.\"},\n",
    "            #     ]\n",
    "            # )\n",
    "            finalData.append({\"result\":chat_completion.choices[0].message.content,\"document_id\":doc_name})\n",
    "        except Exception as e:\n",
    "            return f\"An error occurred: {str(e)}\"\n",
    "    return finalData\n",
    "\n",
    "\n",
    "query = \"What is yellow fever?\"\n",
    "response = rag_system_groq(query,2)\n",
    "from rich import print\n",
    "print(response)"
   ]
  },
  {
   "cell_type": "code",
   "execution_count": 71,
   "metadata": {},
   "outputs": [
    {
     "data": {
      "text/html": [
       "<pre style=\"white-space:pre;overflow-x:auto;line-height:normal;font-family:Menlo,'DejaVu Sans Mono',consolas,'Courier New',monospace\"><span style=\"font-weight: bold\">[</span>\n",
       "    <span style=\"font-weight: bold\">{</span>\n",
       "        <span style=\"color: #008000; text-decoration-color: #008000\">'result'</span>: <span style=\"color: #008000; text-decoration-color: #008000\">'**Yellow Fever:** A serious infection spread by mosquitoes, found in parts of Africa and </span>\n",
       "<span style=\"color: #008000; text-decoration-color: #008000\">South/Central America.\\n\\nKey points:\\n\\n*   **Transmission**: Through bites from infected mosquitoes.\\n*   </span>\n",
       "<span style=\"color: #008000; text-decoration-color: #008000\">**Vaccination**: Recommended for travelers to affected areas.\\n*   **Symptoms**: High temperature, headache, </span>\n",
       "<span style=\"color: #008000; text-decoration-color: #008000\">feeling sick, aches and pains, loss of appetite, and jaundice (yellowing of skin and eyes).\\n*   **Treatment**: No </span>\n",
       "<span style=\"color: #008000; text-decoration-color: #008000\">specific treatment; most people recover within 3-4 days.'</span>,\n",
       "        <span style=\"color: #008000; text-decoration-color: #008000\">'document_id'</span>: <span style=\"color: #008000; text-decoration-color: #008000\">'yellow-fever.md'</span>\n",
       "    <span style=\"font-weight: bold\">}</span>,\n",
       "    <span style=\"font-weight: bold\">{</span>\n",
       "        <span style=\"color: #008000; text-decoration-color: #008000\">'result'</span>: <span style=\"color: #008000; text-decoration-color: #008000\">\"Based on the provided context, I don't see any information about yellow fever. The context is </span>\n",
       "<span style=\"color: #008000; text-decoration-color: #008000\">about Bird flu (avian influenza). If you have a specific question about bird flu or its symptoms, I can help with </span>\n",
       "<span style=\"color: #008000; text-decoration-color: #008000\">that!\"</span>,\n",
       "        <span style=\"color: #008000; text-decoration-color: #008000\">'document_id'</span>: <span style=\"color: #008000; text-decoration-color: #008000\">'bird-flu.md'</span>\n",
       "    <span style=\"font-weight: bold\">}</span>,\n",
       "    <span style=\"font-weight: bold\">{</span>\n",
       "        <span style=\"color: #008000; text-decoration-color: #008000\">'result'</span>: <span style=\"color: #008000; text-decoration-color: #008000\">'Based on the provided context, I realize that the query \"What is yellow fever?\" doesn\\'t match </span>\n",
       "<span style=\"color: #008000; text-decoration-color: #008000\">the content. The correct answer would be:\\n\\nThe text doesn\\'t mention Yellow Fever at all. It\\'s about Hay </span>\n",
       "<span style=\"color: #008000; text-decoration-color: #008000\">Fever.'</span>,\n",
       "        <span style=\"color: #008000; text-decoration-color: #008000\">'document_id'</span>: <span style=\"color: #008000; text-decoration-color: #008000\">'hay-fever.md'</span>\n",
       "    <span style=\"font-weight: bold\">}</span>,\n",
       "    <span style=\"font-weight: bold\">{</span>\n",
       "        <span style=\"color: #008000; text-decoration-color: #008000\">'result'</span>: <span style=\"color: #008000; text-decoration-color: #008000\">'The provided text is about Dengue, not Yellow Fever.\\n\\nHowever, if we analyze the context of </span>\n",
       "<span style=\"color: #008000; text-decoration-color: #008000\">the query \"What is yellow fever?\" and consider that it\\'s related to mosquito-borne diseases in tropical areas, a </span>\n",
       "<span style=\"color: #008000; text-decoration-color: #008000\">possible answer could be:\\n\\n\"Yellow Fever is another disease spread by infected mosquitoes, similar to Dengue. </span>\n",
       "<span style=\"color: #008000; text-decoration-color: #008000\">It\\'s also found in tropical regions, but with different symptoms.\"\\n\\nThis response acknowledges the connection </span>\n",
       "<span style=\"color: #008000; text-decoration-color: #008000\">between both diseases, which might have led to the confusion. However, it\\'s essential to note that the query was </span>\n",
       "<span style=\"color: #008000; text-decoration-color: #008000\">not answered directly from the provided text but rather inferred based on context.'</span>,\n",
       "        <span style=\"color: #008000; text-decoration-color: #008000\">'document_id'</span>: <span style=\"color: #008000; text-decoration-color: #008000\">'dengue.md'</span>\n",
       "    <span style=\"font-weight: bold\">}</span>,\n",
       "    <span style=\"font-weight: bold\">{</span>\n",
       "        <span style=\"color: #008000; text-decoration-color: #008000\">'result'</span>: <span style=\"color: #008000; text-decoration-color: #008000\">'Based on the provided query \"What is yellow fever?\" I couldn\\'t find any relevant information in</span>\n",
       "<span style=\"color: #008000; text-decoration-color: #008000\">the context of the given text, which appears to be about a high temperature (fever) in children. However, I can </span>\n",
       "<span style=\"color: #008000; text-decoration-color: #008000\">provide you with some general information about yellow fever.\\n\\nYellow fever is a viral disease transmitted by </span>\n",
       "<span style=\"color: #008000; text-decoration-color: #008000\">mosquitoes that occurs in certain parts of Africa and South America. It\\'s characterized by symptoms like fever, </span>\n",
       "<span style=\"color: #008000; text-decoration-color: #008000\">chills, headache, muscle pain, and nausea, which can progress to severe bleeding and organ failure if left </span>\n",
       "<span style=\"color: #008000; text-decoration-color: #008000\">untreated.\\n\\nIf you\\'re looking for more specific information on yellow fever, I\\'d be happy to help with a new </span>\n",
       "<span style=\"color: #008000; text-decoration-color: #008000\">query!'</span>,\n",
       "        <span style=\"color: #008000; text-decoration-color: #008000\">'document_id'</span>: <span style=\"color: #008000; text-decoration-color: #008000\">'fever-in-children.md'</span>\n",
       "    <span style=\"font-weight: bold\">}</span>\n",
       "<span style=\"font-weight: bold\">]</span>\n",
       "</pre>\n"
      ],
      "text/plain": [
       "\u001b[1m[\u001b[0m\n",
       "    \u001b[1m{\u001b[0m\n",
       "        \u001b[32m'result'\u001b[0m: \u001b[32m'**Yellow Fever:** A serious infection spread by mosquitoes, found in parts of Africa and \u001b[0m\n",
       "\u001b[32mSouth/Central America.\\n\\nKey points:\\n\\n*   **Transmission**: Through bites from infected mosquitoes.\\n*   \u001b[0m\n",
       "\u001b[32m**Vaccination**: Recommended for travelers to affected areas.\\n*   **Symptoms**: High temperature, headache, \u001b[0m\n",
       "\u001b[32mfeeling sick, aches and pains, loss of appetite, and jaundice \u001b[0m\u001b[32m(\u001b[0m\u001b[32myellowing of skin and eyes\u001b[0m\u001b[32m)\u001b[0m\u001b[32m.\\n*   **Treatment**: No \u001b[0m\n",
       "\u001b[32mspecific treatment; most people recover within 3-4 days.'\u001b[0m,\n",
       "        \u001b[32m'document_id'\u001b[0m: \u001b[32m'yellow-fever.md'\u001b[0m\n",
       "    \u001b[1m}\u001b[0m,\n",
       "    \u001b[1m{\u001b[0m\n",
       "        \u001b[32m'result'\u001b[0m: \u001b[32m\"Based on the provided context, I don't see any information about yellow fever. The context is \u001b[0m\n",
       "\u001b[32mabout Bird flu \u001b[0m\u001b[32m(\u001b[0m\u001b[32mavian influenza\u001b[0m\u001b[32m)\u001b[0m\u001b[32m. If you have a specific question about bird flu or its symptoms, I can help with \u001b[0m\n",
       "\u001b[32mthat!\"\u001b[0m,\n",
       "        \u001b[32m'document_id'\u001b[0m: \u001b[32m'bird-flu.md'\u001b[0m\n",
       "    \u001b[1m}\u001b[0m,\n",
       "    \u001b[1m{\u001b[0m\n",
       "        \u001b[32m'result'\u001b[0m: \u001b[32m'Based on the provided context, I realize that the query \"What is yellow fever?\" doesn\\'t match \u001b[0m\n",
       "\u001b[32mthe content. The correct answer would be:\\n\\nThe text doesn\\'t mention Yellow Fever at all. It\\'s about Hay \u001b[0m\n",
       "\u001b[32mFever.'\u001b[0m,\n",
       "        \u001b[32m'document_id'\u001b[0m: \u001b[32m'hay-fever.md'\u001b[0m\n",
       "    \u001b[1m}\u001b[0m,\n",
       "    \u001b[1m{\u001b[0m\n",
       "        \u001b[32m'result'\u001b[0m: \u001b[32m'The provided text is about Dengue, not Yellow Fever.\\n\\nHowever, if we analyze the context of \u001b[0m\n",
       "\u001b[32mthe query \"What is yellow fever?\" and consider that it\\'s related to mosquito-borne diseases in tropical areas, a \u001b[0m\n",
       "\u001b[32mpossible answer could be:\\n\\n\"Yellow Fever is another disease spread by infected mosquitoes, similar to Dengue. \u001b[0m\n",
       "\u001b[32mIt\\'s also found in tropical regions, but with different symptoms.\"\\n\\nThis response acknowledges the connection \u001b[0m\n",
       "\u001b[32mbetween both diseases, which might have led to the confusion. However, it\\'s essential to note that the query was \u001b[0m\n",
       "\u001b[32mnot answered directly from the provided text but rather inferred based on context.'\u001b[0m,\n",
       "        \u001b[32m'document_id'\u001b[0m: \u001b[32m'dengue.md'\u001b[0m\n",
       "    \u001b[1m}\u001b[0m,\n",
       "    \u001b[1m{\u001b[0m\n",
       "        \u001b[32m'result'\u001b[0m: \u001b[32m'Based on the provided query \"What is yellow fever?\" I couldn\\'t find any relevant information in\u001b[0m\n",
       "\u001b[32mthe context of the given text, which appears to be about a high temperature \u001b[0m\u001b[32m(\u001b[0m\u001b[32mfever\u001b[0m\u001b[32m)\u001b[0m\u001b[32m in children. However, I can \u001b[0m\n",
       "\u001b[32mprovide you with some general information about yellow fever.\\n\\nYellow fever is a viral disease transmitted by \u001b[0m\n",
       "\u001b[32mmosquitoes that occurs in certain parts of Africa and South America. It\\'s characterized by symptoms like fever, \u001b[0m\n",
       "\u001b[32mchills, headache, muscle pain, and nausea, which can progress to severe bleeding and organ failure if left \u001b[0m\n",
       "\u001b[32muntreated.\\n\\nIf you\\'re looking for more specific information on yellow fever, I\\'d be happy to help with a new \u001b[0m\n",
       "\u001b[32mquery!'\u001b[0m,\n",
       "        \u001b[32m'document_id'\u001b[0m: \u001b[32m'fever-in-children.md'\u001b[0m\n",
       "    \u001b[1m}\u001b[0m\n",
       "\u001b[1m]\u001b[0m\n"
      ]
     },
     "metadata": {},
     "output_type": "display_data"
    }
   ],
   "source": [
    "query = \"What is yellow fever?\"\n",
    "response = rag_system(query,5)\n",
    "from rich import print\n",
    "print(response)"
   ]
  },
  {
   "cell_type": "code",
   "execution_count": 9,
   "metadata": {},
   "outputs": [
    {
     "ename": "NameError",
     "evalue": "name 'rag_system' is not defined",
     "output_type": "error",
     "traceback": [
      "\u001b[1;31m---------------------------------------------------------------------------\u001b[0m",
      "\u001b[1;31mNameError\u001b[0m                                 Traceback (most recent call last)",
      "Cell \u001b[1;32mIn[9], line 2\u001b[0m\n\u001b[0;32m      1\u001b[0m query \u001b[38;5;241m=\u001b[39m \u001b[38;5;124m\"\u001b[39m\u001b[38;5;124mI have cold and fever from last 5 days and not able to handle anywork what might be the reason\u001b[39m\u001b[38;5;124m\"\u001b[39m\n\u001b[1;32m----> 2\u001b[0m response \u001b[38;5;241m=\u001b[39m rag_system(query,\u001b[38;5;241m1\u001b[39m)\n\u001b[0;32m      3\u001b[0m \u001b[38;5;28;01mfrom\u001b[39;00m \u001b[38;5;21;01mrich\u001b[39;00m \u001b[38;5;28;01mimport\u001b[39;00m \u001b[38;5;28mprint\u001b[39m\n\u001b[0;32m      4\u001b[0m \u001b[38;5;28mprint\u001b[39m(response)\n",
      "\u001b[1;31mNameError\u001b[0m: name 'rag_system' is not defined"
     ]
    }
   ],
   "source": [
    "query = \"I have cold and fever from last 5 days and not able to handle anywork what might be the reason\"\n",
    "response = rag_system(query,1)\n",
    "from rich import print\n",
    "print(response)\n",
    "rag_system_groq"
   ]
  },
  {
   "cell_type": "code",
   "execution_count": 34,
   "metadata": {},
   "outputs": [
    {
     "data": {
      "text/html": [
       "<pre style=\"white-space:pre;overflow-x:auto;line-height:normal;font-family:Menlo,'DejaVu Sans Mono',consolas,'Courier New',monospace\"><span style=\"font-weight: bold\">[</span>\n",
       "    <span style=\"font-weight: bold\">{</span>\n",
       "        <span style=\"color: #008000; text-decoration-color: #008000\">'result'</span>: <span style=\"color: #008000; text-decoration-color: #008000\">\"Based on your symptoms of cold and fever for the last 5 days, and difficulty handling work, it's</span>\n",
       "<span style=\"color: #008000; text-decoration-color: #008000\">possible that you may be experiencing Sick Building Syndrome (SBS). This is because SBS symptoms, such as </span>\n",
       "<span style=\"color: #008000; text-decoration-color: #008000\">headaches, tiredness, and respiratory issues, worsen while you're in a particular building and improve after </span>\n",
       "<span style=\"color: #008000; text-decoration-color: #008000\">leaving it. Consider speaking to your manager or building manager to investigate the issue, and try to ease </span>\n",
       "<span style=\"color: #008000; text-decoration-color: #008000\">symptoms by improving ventilation, reducing stress, and taking regular breaks.\"</span>,\n",
       "        <span style=\"color: #008000; text-decoration-color: #008000\">'document_id'</span>: <span style=\"color: #008000; text-decoration-color: #008000\">'sick-building-syndrome.md'</span>\n",
       "    <span style=\"font-weight: bold\">}</span>\n",
       "<span style=\"font-weight: bold\">]</span>\n",
       "</pre>\n"
      ],
      "text/plain": [
       "\u001b[1m[\u001b[0m\n",
       "    \u001b[1m{\u001b[0m\n",
       "        \u001b[32m'result'\u001b[0m: \u001b[32m\"Based on your symptoms of cold and fever for the last 5 days, and difficulty handling work, it's\u001b[0m\n",
       "\u001b[32mpossible that you may be experiencing Sick Building Syndrome \u001b[0m\u001b[32m(\u001b[0m\u001b[32mSBS\u001b[0m\u001b[32m)\u001b[0m\u001b[32m. This is because SBS symptoms, such as \u001b[0m\n",
       "\u001b[32mheadaches, tiredness, and respiratory issues, worsen while you're in a particular building and improve after \u001b[0m\n",
       "\u001b[32mleaving it. Consider speaking to your manager or building manager to investigate the issue, and try to ease \u001b[0m\n",
       "\u001b[32msymptoms by improving ventilation, reducing stress, and taking regular breaks.\"\u001b[0m,\n",
       "        \u001b[32m'document_id'\u001b[0m: \u001b[32m'sick-building-syndrome.md'\u001b[0m\n",
       "    \u001b[1m}\u001b[0m\n",
       "\u001b[1m]\u001b[0m\n"
      ]
     },
     "metadata": {},
     "output_type": "display_data"
    }
   ],
   "source": [
    "query = \"I have cold and fever from last 5 days and not able to handle anywork what might be the reason\"\n",
    "response = rag_system_groq(query,1)\n",
    "from rich import print\n",
    "print(response)\n"
   ]
  },
  {
   "cell_type": "code",
   "execution_count": 4,
   "metadata": {},
   "outputs": [
    {
     "data": {
      "text/plain": [
       "[{'result': \"Based on your symptoms of having a cold and fever for the last 5 days, which are preventing you from handling any work, it's unlikely that Sick Building Syndrome (SBS) is the primary cause. SBS is typically characterized by symptoms that worsen when you're in a particular building and improve when you leave. Your symptoms seem to be more related to a common illness like a viral infection or flu.\\n\\nThe reason behind your symptoms could be a viral or bacterial infection, which is common during cold and flu seasons. It's essential to consult a healthcare professional to determine the underlying cause of your illness and receive appropriate treatment. In the meantime, make sure to get plenty of rest, stay hydrated, and take over-the-counter medications to manage your symptoms.\\n\\nIt's also a good idea to take precautions to prevent the spread of infection, such as washing your hands frequently, covering your mouth and nose when coughing or sneezing, and avoiding close contact with others.\\n\\nPlease consult a doctor or healthcare professional for a proper diagnosis and guidance on how to manage your symptoms and recover from your illness.\",\n",
       "  'document_id': 'sick-building-syndrome.md'},\n",
       " {'result': \"I apologize for the mismatch between the query and the provided context. Based on your query, here's a concise and accurate response:\\n\\n**You may have a viral infection, such as a cold or flu, which is causing your fever and cold symptoms.**\\n\\n**Reasons for not being able to handle work:**\\n\\n* Fatigue and weakness associated with a high fever\\n* Congestion, headaches, and body aches making it difficult to focus and perform tasks\\n* Dehydration, which can lead to decreased productivity and motivation\\n\\n**Recommendations:**\\n\\n* Get plenty of rest and stay hydrated by drinking plenty of fluids\\n* Consider taking over-the-counter medications like paracetamol or ibuprofen to help manage your symptoms\\n* Stay home from work to avoid infecting others and to give your body time to recover\\n* If your symptoms worsen or don't improve within a few days, consider consulting a healthcare professional for further guidance.\\n\\nPlease note that this response is not a substitute for medical advice. If you're concerned about your symptoms or have underlying health conditions, it's always best to consult a healthcare professional for personalized guidance.\",\n",
       "  'document_id': 'fever-in-adults.md'}]"
      ]
     },
     "execution_count": 4,
     "metadata": {},
     "output_type": "execute_result"
    }
   ],
   "source": [
    "def getresponse(query,n_results):\n",
    "    try:\n",
    "        response = rag_system_groq(query,n_results)\n",
    "        from rich import print\n",
    "        return response\n",
    "    except Exception as e:\n",
    "        print(f\"An error occurred: {e}\")\n",
    "getresponse(query = \"I have cold and fever from last 5 days and not able to handle anywork what might be the reason\",n_results=2)"
   ]
  },
  {
   "cell_type": "code",
   "execution_count": 49,
   "metadata": {},
   "outputs": [
    {
     "data": {
      "text/markdown": [
       "Based on the provided context, the article does not directly address the question \"Does Autism affect human speech?\" The article focuses on Dysarthria, a condition that causes difficulty speaking due to weak speech muscles, and its causes, symptoms, and treatment.\n",
       "\n",
       "To answer your question, Autism Spectrum Disorder (ASD) can indeed affect human speech. Individuals with ASD may experience difficulties with verbal and nonverbal communication, including delayed speech development, difficulty articulating words, and struggles with understanding and using language. However, this information is not provided in the given context.\n",
       "\n",
       "If you would like to know more about how Autism affects human speech, I can provide you with more information or suggest resources on the topic."
      ],
      "text/plain": [
       "<IPython.core.display.Markdown object>"
      ]
     },
     "metadata": {},
     "output_type": "display_data"
    },
    {
     "data": {
      "text/html": [
       "<pre style=\"white-space:pre;overflow-x:auto;line-height:normal;font-family:Menlo,'DejaVu Sans Mono',consolas,'Courier New',monospace\">dysarthria.md\n",
       "</pre>\n"
      ],
      "text/plain": [
       "dysarthria.md\n"
      ]
     },
     "metadata": {},
     "output_type": "display_data"
    }
   ],
   "source": [
    "res = getresponse(query = \"Does Autism affect human speech?\",n_results=1)\n",
    "for i in res:\n",
    "    from IPython.display import Markdown\n",
    "    display(Markdown(i['result']))\n",
    "    print(i['document_id'])\n"
   ]
  },
  {
   "cell_type": "code",
   "execution_count": 5,
   "metadata": {},
   "outputs": [
    {
     "data": {
      "text/markdown": [
       "**Factors for Fatty Liver (NAFLD):**\n",
       "\n",
       "* Being overweight or obese, especially with a lot of fat around the waist\n",
       "* Having type 2 diabetes\n",
       "* Having a condition that affects insulin use, such as polycystic ovary syndrome\n",
       "* Having an underactive thyroid\n",
       "* Having high blood pressure\n",
       "* Having high cholesterol\n",
       "* Having metabolic syndrome (a combination of diabetes, high blood pressure, and obesity)\n",
       "* Being over 50 years old\n",
       "* Smoking\n",
       "\n",
       "**How to Prevent Fatty Liver (NAFLD):**\n",
       "\n",
       "* Maintaining a healthy weight through a balanced diet and regular exercise\n",
       "* Eating a healthy diet high in fruits, vegetables, protein, and carbohydrates, but low in fat, sugar, and salt\n",
       "* Drinking water instead of sweet drinks\n",
       "* Exercising regularly, aiming for at least 150 minutes of moderate-intensity activity per week\n",
       "* Stopping smoking\n",
       "* Limiting or avoiding alcohol consumption\n",
       "\n",
       "By adopting these healthy lifestyle choices, you can reduce your risk of developing fatty liver disease and improve your overall health."
      ],
      "text/plain": [
       "<IPython.core.display.Markdown object>"
      ]
     },
     "metadata": {},
     "output_type": "display_data"
    },
    {
     "data": {
      "text/html": [
       "<pre style=\"white-space:pre;overflow-x:auto;line-height:normal;font-family:Menlo,'DejaVu Sans Mono',consolas,'Courier New',monospace\">non-alcoholic-fatty-liver-disease.md\n",
       "</pre>\n"
      ],
      "text/plain": [
       "non-alcoholic-fatty-liver-disease.md\n"
      ]
     },
     "metadata": {},
     "output_type": "display_data"
    }
   ],
   "source": [
    "res = getresponse(query = \"What are the factors for fatty liver? And how to prevent it\",n_results=1)\n",
    "for i in res:\n",
    "    from IPython.display import Markdown\n",
    "    display(Markdown(i['result']))\n",
    "    print(i['document_id'])\n"
   ]
  },
  {
   "cell_type": "code",
   "execution_count": 77,
   "metadata": {},
   "outputs": [
    {
     "data": {
      "text/html": [
       "<pre style=\"white-space:pre;overflow-x:auto;line-height:normal;font-family:Menlo,'DejaVu Sans Mono',consolas,'Courier New',monospace\">Result:  **Yellow Fever:** A serious infection spread by mosquitoes, found in parts of Africa and South/Central \n",
       "America.\n",
       "\n",
       "Key points:\n",
       "\n",
       "*   **Transmission**: Through bites from infected mosquitoes.\n",
       "*   **Vaccination**: Recommended for travelers to affected areas.\n",
       "*   **Symptoms**: High temperature, headache, feeling sick, aches and pains, loss of appetite, and jaundice \n",
       "<span style=\"font-weight: bold\">(</span>yellowing of skin and eyes<span style=\"font-weight: bold\">)</span>.\n",
       "*   **Treatment**: No specific treatment; most people recover within <span style=\"color: #008080; text-decoration-color: #008080; font-weight: bold\">3</span>-<span style=\"color: #008080; text-decoration-color: #008080; font-weight: bold\">4</span> days.\n",
       "</pre>\n"
      ],
      "text/plain": [
       "Result:  **Yellow Fever:** A serious infection spread by mosquitoes, found in parts of Africa and South/Central \n",
       "America.\n",
       "\n",
       "Key points:\n",
       "\n",
       "*   **Transmission**: Through bites from infected mosquitoes.\n",
       "*   **Vaccination**: Recommended for travelers to affected areas.\n",
       "*   **Symptoms**: High temperature, headache, feeling sick, aches and pains, loss of appetite, and jaundice \n",
       "\u001b[1m(\u001b[0myellowing of skin and eyes\u001b[1m)\u001b[0m.\n",
       "*   **Treatment**: No specific treatment; most people recover within \u001b[1;36m3\u001b[0m-\u001b[1;36m4\u001b[0m days.\n"
      ]
     },
     "metadata": {},
     "output_type": "display_data"
    },
    {
     "data": {
      "text/html": [
       "<pre style=\"white-space:pre;overflow-x:auto;line-height:normal;font-family:Menlo,'DejaVu Sans Mono',consolas,'Courier New',monospace\">DOcument ID : yellow-fever.md\n",
       "</pre>\n"
      ],
      "text/plain": [
       "DOcument ID : yellow-fever.md\n"
      ]
     },
     "metadata": {},
     "output_type": "display_data"
    },
    {
     "data": {
      "text/html": [
       "<pre style=\"white-space:pre;overflow-x:auto;line-height:normal;font-family:Menlo,'DejaVu Sans Mono',consolas,'Courier New',monospace\">--------------------------------------------------\n",
       "</pre>\n"
      ],
      "text/plain": [
       "--------------------------------------------------\n"
      ]
     },
     "metadata": {},
     "output_type": "display_data"
    },
    {
     "data": {
      "text/html": [
       "<pre style=\"white-space:pre;overflow-x:auto;line-height:normal;font-family:Menlo,'DejaVu Sans Mono',consolas,'Courier New',monospace\">Result:  Based on the provided context, I don't see any information about yellow fever. The context is about Bird \n",
       "flu <span style=\"font-weight: bold\">(</span>avian influenza<span style=\"font-weight: bold\">)</span>. If you have a specific question about bird flu or its symptoms, I can help with that!\n",
       "</pre>\n"
      ],
      "text/plain": [
       "Result:  Based on the provided context, I don't see any information about yellow fever. The context is about Bird \n",
       "flu \u001b[1m(\u001b[0mavian influenza\u001b[1m)\u001b[0m. If you have a specific question about bird flu or its symptoms, I can help with that!\n"
      ]
     },
     "metadata": {},
     "output_type": "display_data"
    },
    {
     "data": {
      "text/html": [
       "<pre style=\"white-space:pre;overflow-x:auto;line-height:normal;font-family:Menlo,'DejaVu Sans Mono',consolas,'Courier New',monospace\">DOcument ID : bird-flu.md\n",
       "</pre>\n"
      ],
      "text/plain": [
       "DOcument ID : bird-flu.md\n"
      ]
     },
     "metadata": {},
     "output_type": "display_data"
    },
    {
     "data": {
      "text/html": [
       "<pre style=\"white-space:pre;overflow-x:auto;line-height:normal;font-family:Menlo,'DejaVu Sans Mono',consolas,'Courier New',monospace\">--------------------------------------------------\n",
       "</pre>\n"
      ],
      "text/plain": [
       "--------------------------------------------------\n"
      ]
     },
     "metadata": {},
     "output_type": "display_data"
    },
    {
     "data": {
      "text/html": [
       "<pre style=\"white-space:pre;overflow-x:auto;line-height:normal;font-family:Menlo,'DejaVu Sans Mono',consolas,'Courier New',monospace\">Result:  Based on the provided context, I realize that the query <span style=\"color: #008000; text-decoration-color: #008000\">\"What is yellow fever?\"</span> doesn't match the content.\n",
       "The correct answer would be:\n",
       "\n",
       "The text doesn't mention Yellow Fever at all. It's about Hay Fever.\n",
       "</pre>\n"
      ],
      "text/plain": [
       "Result:  Based on the provided context, I realize that the query \u001b[32m\"What is yellow fever?\"\u001b[0m doesn't match the content.\n",
       "The correct answer would be:\n",
       "\n",
       "The text doesn't mention Yellow Fever at all. It's about Hay Fever.\n"
      ]
     },
     "metadata": {},
     "output_type": "display_data"
    },
    {
     "data": {
      "text/html": [
       "<pre style=\"white-space:pre;overflow-x:auto;line-height:normal;font-family:Menlo,'DejaVu Sans Mono',consolas,'Courier New',monospace\">DOcument ID : hay-fever.md\n",
       "</pre>\n"
      ],
      "text/plain": [
       "DOcument ID : hay-fever.md\n"
      ]
     },
     "metadata": {},
     "output_type": "display_data"
    },
    {
     "data": {
      "text/html": [
       "<pre style=\"white-space:pre;overflow-x:auto;line-height:normal;font-family:Menlo,'DejaVu Sans Mono',consolas,'Courier New',monospace\">--------------------------------------------------\n",
       "</pre>\n"
      ],
      "text/plain": [
       "--------------------------------------------------\n"
      ]
     },
     "metadata": {},
     "output_type": "display_data"
    },
    {
     "data": {
      "text/html": [
       "<pre style=\"white-space:pre;overflow-x:auto;line-height:normal;font-family:Menlo,'DejaVu Sans Mono',consolas,'Courier New',monospace\">Result:  The provided text is about Dengue, not Yellow Fever.\n",
       "\n",
       "However, if we analyze the context of the query <span style=\"color: #008000; text-decoration-color: #008000\">\"What is yellow fever?\"</span> and consider that it's related to \n",
       "mosquito-borne diseases in tropical areas, a possible answer could be:\n",
       "\n",
       "<span style=\"color: #008000; text-decoration-color: #008000\">\"Yellow Fever is another disease spread by infected mosquitoes, similar to Dengue. It's also found in tropical </span>\n",
       "<span style=\"color: #008000; text-decoration-color: #008000\">regions, but with different symptoms.\"</span>\n",
       "\n",
       "This response acknowledges the connection between both diseases, which might have led to the confusion. However, \n",
       "it's essential to note that the query was not answered directly from the provided text but rather inferred based on\n",
       "context.\n",
       "</pre>\n"
      ],
      "text/plain": [
       "Result:  The provided text is about Dengue, not Yellow Fever.\n",
       "\n",
       "However, if we analyze the context of the query \u001b[32m\"What is yellow fever?\"\u001b[0m and consider that it's related to \n",
       "mosquito-borne diseases in tropical areas, a possible answer could be:\n",
       "\n",
       "\u001b[32m\"Yellow Fever is another disease spread by infected mosquitoes, similar to Dengue. It's also found in tropical \u001b[0m\n",
       "\u001b[32mregions, but with different symptoms.\"\u001b[0m\n",
       "\n",
       "This response acknowledges the connection between both diseases, which might have led to the confusion. However, \n",
       "it's essential to note that the query was not answered directly from the provided text but rather inferred based on\n",
       "context.\n"
      ]
     },
     "metadata": {},
     "output_type": "display_data"
    },
    {
     "data": {
      "text/html": [
       "<pre style=\"white-space:pre;overflow-x:auto;line-height:normal;font-family:Menlo,'DejaVu Sans Mono',consolas,'Courier New',monospace\">DOcument ID : dengue.md\n",
       "</pre>\n"
      ],
      "text/plain": [
       "DOcument ID : dengue.md\n"
      ]
     },
     "metadata": {},
     "output_type": "display_data"
    },
    {
     "data": {
      "text/html": [
       "<pre style=\"white-space:pre;overflow-x:auto;line-height:normal;font-family:Menlo,'DejaVu Sans Mono',consolas,'Courier New',monospace\">--------------------------------------------------\n",
       "</pre>\n"
      ],
      "text/plain": [
       "--------------------------------------------------\n"
      ]
     },
     "metadata": {},
     "output_type": "display_data"
    },
    {
     "data": {
      "text/html": [
       "<pre style=\"white-space:pre;overflow-x:auto;line-height:normal;font-family:Menlo,'DejaVu Sans Mono',consolas,'Courier New',monospace\">Result:  Based on the provided query <span style=\"color: #008000; text-decoration-color: #008000\">\"What is yellow fever?\"</span> I couldn't find any relevant information in the \n",
       "context of the given text, which appears to be about a high temperature <span style=\"font-weight: bold\">(</span>fever<span style=\"font-weight: bold\">)</span> in children. However, I can provide\n",
       "you with some general information about yellow fever.\n",
       "\n",
       "Yellow fever is a viral disease transmitted by mosquitoes that occurs in certain parts of Africa and South America.\n",
       "It's characterized by symptoms like fever, chills, headache, muscle pain, and nausea, which can progress to severe \n",
       "bleeding and organ failure if left untreated.\n",
       "\n",
       "If you're looking for more specific information on yellow fever, I'd be happy to help with a new query!\n",
       "</pre>\n"
      ],
      "text/plain": [
       "Result:  Based on the provided query \u001b[32m\"What is yellow fever?\"\u001b[0m I couldn't find any relevant information in the \n",
       "context of the given text, which appears to be about a high temperature \u001b[1m(\u001b[0mfever\u001b[1m)\u001b[0m in children. However, I can provide\n",
       "you with some general information about yellow fever.\n",
       "\n",
       "Yellow fever is a viral disease transmitted by mosquitoes that occurs in certain parts of Africa and South America.\n",
       "It's characterized by symptoms like fever, chills, headache, muscle pain, and nausea, which can progress to severe \n",
       "bleeding and organ failure if left untreated.\n",
       "\n",
       "If you're looking for more specific information on yellow fever, I'd be happy to help with a new query!\n"
      ]
     },
     "metadata": {},
     "output_type": "display_data"
    },
    {
     "data": {
      "text/html": [
       "<pre style=\"white-space:pre;overflow-x:auto;line-height:normal;font-family:Menlo,'DejaVu Sans Mono',consolas,'Courier New',monospace\">DOcument ID : fever-in-children.md\n",
       "</pre>\n"
      ],
      "text/plain": [
       "DOcument ID : fever-in-children.md\n"
      ]
     },
     "metadata": {},
     "output_type": "display_data"
    },
    {
     "data": {
      "text/html": [
       "<pre style=\"white-space:pre;overflow-x:auto;line-height:normal;font-family:Menlo,'DejaVu Sans Mono',consolas,'Courier New',monospace\">--------------------------------------------------\n",
       "</pre>\n"
      ],
      "text/plain": [
       "--------------------------------------------------\n"
      ]
     },
     "metadata": {},
     "output_type": "display_data"
    }
   ],
   "source": [
    "for i in response:\n",
    "    print(\"Result: \",i[\"result\"])\n",
    "    print(\"DOcument ID :\",i['document_id'])\n",
    "    print(\"-\"*50)"
   ]
  },
  {
   "cell_type": "code",
   "execution_count": null,
   "metadata": {},
   "outputs": [],
   "source": []
  },
  {
   "cell_type": "code",
   "execution_count": null,
   "metadata": {},
   "outputs": [],
   "source": []
  },
  {
   "cell_type": "code",
   "execution_count": 70,
   "metadata": {},
   "outputs": [],
   "source": [
    "# document_content, document_id = retrieve_document(query,2)\n",
    "# # print(document_content)\n",
    "# # print(document_id)\n",
    "# for res,doc_name in zip(document_content,document_id):\n",
    "#     print(res)\n",
    "#     print(doc_name)"
   ]
  },
  {
   "cell_type": "code",
   "execution_count": null,
   "metadata": {},
   "outputs": [],
   "source": []
  },
  {
   "cell_type": "code",
   "execution_count": null,
   "metadata": {},
   "outputs": [],
   "source": [
    "# from IPython.display import Markdown\n",
    "# Markdown(response['result'])"
   ]
  },
  {
   "cell_type": "code",
   "execution_count": 42,
   "metadata": {},
   "outputs": [],
   "source": [
    "# def rag_system(query):\n",
    "#     # Retrieve the most relevant document\n",
    "#     document_content, document_id = retrieve_document(query,2)\n",
    "#     from IPython.display import Markdown\n",
    "#     # print(document_content)\n",
    "#     # print(document_id)\n",
    "#     return document_content,document_id"
   ]
  },
  {
   "cell_type": "code",
   "execution_count": 46,
   "metadata": {},
   "outputs": [],
   "source": [
    "# c,i = rag_system(query)"
   ]
  },
  {
   "cell_type": "code",
   "execution_count": 54,
   "metadata": {},
   "outputs": [],
   "source": [
    "# document_content, document_id = retrieve_document(query,2)"
   ]
  },
  {
   "cell_type": "code",
   "execution_count": 58,
   "metadata": {},
   "outputs": [],
   "source": [
    "# document_content"
   ]
  },
  {
   "cell_type": "code",
   "execution_count": 59,
   "metadata": {},
   "outputs": [],
   "source": [
    "# document_id"
   ]
  },
  {
   "cell_type": "code",
   "execution_count": 79,
   "metadata": {},
   "outputs": [],
   "source": []
  },
  {
   "cell_type": "code",
   "execution_count": null,
   "metadata": {},
   "outputs": [],
   "source": []
  },
  {
   "cell_type": "code",
   "execution_count": 24,
   "metadata": {},
   "outputs": [
    {
     "data": {
      "text/html": [
       "<pre style=\"white-space:pre;overflow-x:auto;line-height:normal;font-family:Menlo,'DejaVu Sans Mono',consolas,'Courier New',monospace\"><span style=\"font-weight: bold\">{</span>\n",
       "    <span style=\"color: #008000; text-decoration-color: #008000\">'object'</span>: <span style=\"color: #008000; text-decoration-color: #008000\">'list'</span>,\n",
       "    <span style=\"color: #008000; text-decoration-color: #008000\">'data'</span>: <span style=\"font-weight: bold\">[</span>\n",
       "        <span style=\"font-weight: bold\">{</span>\n",
       "            <span style=\"color: #008000; text-decoration-color: #008000\">'id'</span>: <span style=\"color: #008000; text-decoration-color: #008000\">'distil-whisper-large-v3-en'</span>,\n",
       "            <span style=\"color: #008000; text-decoration-color: #008000\">'object'</span>: <span style=\"color: #008000; text-decoration-color: #008000\">'model'</span>,\n",
       "            <span style=\"color: #008000; text-decoration-color: #008000\">'created'</span>: <span style=\"color: #008080; text-decoration-color: #008080; font-weight: bold\">1693721698</span>,\n",
       "            <span style=\"color: #008000; text-decoration-color: #008000\">'owned_by'</span>: <span style=\"color: #008000; text-decoration-color: #008000\">'Groq'</span>,\n",
       "            <span style=\"color: #008000; text-decoration-color: #008000\">'active'</span>: <span style=\"color: #00ff00; text-decoration-color: #00ff00; font-style: italic\">True</span>,\n",
       "            <span style=\"color: #008000; text-decoration-color: #008000\">'context_window'</span>: <span style=\"color: #008080; text-decoration-color: #008080; font-weight: bold\">1500</span>,\n",
       "            <span style=\"color: #008000; text-decoration-color: #008000\">'public_apps'</span>: <span style=\"color: #800080; text-decoration-color: #800080; font-style: italic\">None</span>\n",
       "        <span style=\"font-weight: bold\">}</span>,\n",
       "        <span style=\"font-weight: bold\">{</span>\n",
       "            <span style=\"color: #008000; text-decoration-color: #008000\">'id'</span>: <span style=\"color: #008000; text-decoration-color: #008000\">'gemma2-9b-it'</span>,\n",
       "            <span style=\"color: #008000; text-decoration-color: #008000\">'object'</span>: <span style=\"color: #008000; text-decoration-color: #008000\">'model'</span>,\n",
       "            <span style=\"color: #008000; text-decoration-color: #008000\">'created'</span>: <span style=\"color: #008080; text-decoration-color: #008080; font-weight: bold\">1693721698</span>,\n",
       "            <span style=\"color: #008000; text-decoration-color: #008000\">'owned_by'</span>: <span style=\"color: #008000; text-decoration-color: #008000\">'Google'</span>,\n",
       "            <span style=\"color: #008000; text-decoration-color: #008000\">'active'</span>: <span style=\"color: #00ff00; text-decoration-color: #00ff00; font-style: italic\">True</span>,\n",
       "            <span style=\"color: #008000; text-decoration-color: #008000\">'context_window'</span>: <span style=\"color: #008080; text-decoration-color: #008080; font-weight: bold\">8192</span>,\n",
       "            <span style=\"color: #008000; text-decoration-color: #008000\">'public_apps'</span>: <span style=\"color: #800080; text-decoration-color: #800080; font-style: italic\">None</span>\n",
       "        <span style=\"font-weight: bold\">}</span>,\n",
       "        <span style=\"font-weight: bold\">{</span>\n",
       "            <span style=\"color: #008000; text-decoration-color: #008000\">'id'</span>: <span style=\"color: #008000; text-decoration-color: #008000\">'gemma-7b-it'</span>,\n",
       "            <span style=\"color: #008000; text-decoration-color: #008000\">'object'</span>: <span style=\"color: #008000; text-decoration-color: #008000\">'model'</span>,\n",
       "            <span style=\"color: #008000; text-decoration-color: #008000\">'created'</span>: <span style=\"color: #008080; text-decoration-color: #008080; font-weight: bold\">1693721698</span>,\n",
       "            <span style=\"color: #008000; text-decoration-color: #008000\">'owned_by'</span>: <span style=\"color: #008000; text-decoration-color: #008000\">'Google'</span>,\n",
       "            <span style=\"color: #008000; text-decoration-color: #008000\">'active'</span>: <span style=\"color: #00ff00; text-decoration-color: #00ff00; font-style: italic\">True</span>,\n",
       "            <span style=\"color: #008000; text-decoration-color: #008000\">'context_window'</span>: <span style=\"color: #008080; text-decoration-color: #008080; font-weight: bold\">8192</span>,\n",
       "            <span style=\"color: #008000; text-decoration-color: #008000\">'public_apps'</span>: <span style=\"color: #800080; text-decoration-color: #800080; font-style: italic\">None</span>\n",
       "        <span style=\"font-weight: bold\">}</span>,\n",
       "        <span style=\"font-weight: bold\">{</span>\n",
       "            <span style=\"color: #008000; text-decoration-color: #008000\">'id'</span>: <span style=\"color: #008000; text-decoration-color: #008000\">'llama-3.1-70b-versatile'</span>,\n",
       "            <span style=\"color: #008000; text-decoration-color: #008000\">'object'</span>: <span style=\"color: #008000; text-decoration-color: #008000\">'model'</span>,\n",
       "            <span style=\"color: #008000; text-decoration-color: #008000\">'created'</span>: <span style=\"color: #008080; text-decoration-color: #008080; font-weight: bold\">1693721698</span>,\n",
       "            <span style=\"color: #008000; text-decoration-color: #008000\">'owned_by'</span>: <span style=\"color: #008000; text-decoration-color: #008000\">'Meta'</span>,\n",
       "            <span style=\"color: #008000; text-decoration-color: #008000\">'active'</span>: <span style=\"color: #00ff00; text-decoration-color: #00ff00; font-style: italic\">True</span>,\n",
       "            <span style=\"color: #008000; text-decoration-color: #008000\">'context_window'</span>: <span style=\"color: #008080; text-decoration-color: #008080; font-weight: bold\">131072</span>,\n",
       "            <span style=\"color: #008000; text-decoration-color: #008000\">'public_apps'</span>: <span style=\"color: #800080; text-decoration-color: #800080; font-style: italic\">None</span>\n",
       "        <span style=\"font-weight: bold\">}</span>,\n",
       "        <span style=\"font-weight: bold\">{</span>\n",
       "            <span style=\"color: #008000; text-decoration-color: #008000\">'id'</span>: <span style=\"color: #008000; text-decoration-color: #008000\">'llama-3.1-8b-instant'</span>,\n",
       "            <span style=\"color: #008000; text-decoration-color: #008000\">'object'</span>: <span style=\"color: #008000; text-decoration-color: #008000\">'model'</span>,\n",
       "            <span style=\"color: #008000; text-decoration-color: #008000\">'created'</span>: <span style=\"color: #008080; text-decoration-color: #008080; font-weight: bold\">1693721698</span>,\n",
       "            <span style=\"color: #008000; text-decoration-color: #008000\">'owned_by'</span>: <span style=\"color: #008000; text-decoration-color: #008000\">'Meta'</span>,\n",
       "            <span style=\"color: #008000; text-decoration-color: #008000\">'active'</span>: <span style=\"color: #00ff00; text-decoration-color: #00ff00; font-style: italic\">True</span>,\n",
       "            <span style=\"color: #008000; text-decoration-color: #008000\">'context_window'</span>: <span style=\"color: #008080; text-decoration-color: #008080; font-weight: bold\">131072</span>,\n",
       "            <span style=\"color: #008000; text-decoration-color: #008000\">'public_apps'</span>: <span style=\"color: #800080; text-decoration-color: #800080; font-style: italic\">None</span>\n",
       "        <span style=\"font-weight: bold\">}</span>,\n",
       "        <span style=\"font-weight: bold\">{</span>\n",
       "            <span style=\"color: #008000; text-decoration-color: #008000\">'id'</span>: <span style=\"color: #008000; text-decoration-color: #008000\">'llama3-70b-8192'</span>,\n",
       "            <span style=\"color: #008000; text-decoration-color: #008000\">'object'</span>: <span style=\"color: #008000; text-decoration-color: #008000\">'model'</span>,\n",
       "            <span style=\"color: #008000; text-decoration-color: #008000\">'created'</span>: <span style=\"color: #008080; text-decoration-color: #008080; font-weight: bold\">1693721698</span>,\n",
       "            <span style=\"color: #008000; text-decoration-color: #008000\">'owned_by'</span>: <span style=\"color: #008000; text-decoration-color: #008000\">'Meta'</span>,\n",
       "            <span style=\"color: #008000; text-decoration-color: #008000\">'active'</span>: <span style=\"color: #00ff00; text-decoration-color: #00ff00; font-style: italic\">True</span>,\n",
       "            <span style=\"color: #008000; text-decoration-color: #008000\">'context_window'</span>: <span style=\"color: #008080; text-decoration-color: #008080; font-weight: bold\">8192</span>,\n",
       "            <span style=\"color: #008000; text-decoration-color: #008000\">'public_apps'</span>: <span style=\"color: #800080; text-decoration-color: #800080; font-style: italic\">None</span>\n",
       "        <span style=\"font-weight: bold\">}</span>,\n",
       "        <span style=\"font-weight: bold\">{</span>\n",
       "            <span style=\"color: #008000; text-decoration-color: #008000\">'id'</span>: <span style=\"color: #008000; text-decoration-color: #008000\">'llama3-8b-8192'</span>,\n",
       "            <span style=\"color: #008000; text-decoration-color: #008000\">'object'</span>: <span style=\"color: #008000; text-decoration-color: #008000\">'model'</span>,\n",
       "            <span style=\"color: #008000; text-decoration-color: #008000\">'created'</span>: <span style=\"color: #008080; text-decoration-color: #008080; font-weight: bold\">1693721698</span>,\n",
       "            <span style=\"color: #008000; text-decoration-color: #008000\">'owned_by'</span>: <span style=\"color: #008000; text-decoration-color: #008000\">'Meta'</span>,\n",
       "            <span style=\"color: #008000; text-decoration-color: #008000\">'active'</span>: <span style=\"color: #00ff00; text-decoration-color: #00ff00; font-style: italic\">True</span>,\n",
       "            <span style=\"color: #008000; text-decoration-color: #008000\">'context_window'</span>: <span style=\"color: #008080; text-decoration-color: #008080; font-weight: bold\">8192</span>,\n",
       "            <span style=\"color: #008000; text-decoration-color: #008000\">'public_apps'</span>: <span style=\"color: #800080; text-decoration-color: #800080; font-style: italic\">None</span>\n",
       "        <span style=\"font-weight: bold\">}</span>,\n",
       "        <span style=\"font-weight: bold\">{</span>\n",
       "            <span style=\"color: #008000; text-decoration-color: #008000\">'id'</span>: <span style=\"color: #008000; text-decoration-color: #008000\">'llama3-groq-70b-8192-tool-use-preview'</span>,\n",
       "            <span style=\"color: #008000; text-decoration-color: #008000\">'object'</span>: <span style=\"color: #008000; text-decoration-color: #008000\">'model'</span>,\n",
       "            <span style=\"color: #008000; text-decoration-color: #008000\">'created'</span>: <span style=\"color: #008080; text-decoration-color: #008080; font-weight: bold\">1693721698</span>,\n",
       "            <span style=\"color: #008000; text-decoration-color: #008000\">'owned_by'</span>: <span style=\"color: #008000; text-decoration-color: #008000\">'Groq'</span>,\n",
       "            <span style=\"color: #008000; text-decoration-color: #008000\">'active'</span>: <span style=\"color: #00ff00; text-decoration-color: #00ff00; font-style: italic\">True</span>,\n",
       "            <span style=\"color: #008000; text-decoration-color: #008000\">'context_window'</span>: <span style=\"color: #008080; text-decoration-color: #008080; font-weight: bold\">8192</span>,\n",
       "            <span style=\"color: #008000; text-decoration-color: #008000\">'public_apps'</span>: <span style=\"color: #800080; text-decoration-color: #800080; font-style: italic\">None</span>\n",
       "        <span style=\"font-weight: bold\">}</span>,\n",
       "        <span style=\"font-weight: bold\">{</span>\n",
       "            <span style=\"color: #008000; text-decoration-color: #008000\">'id'</span>: <span style=\"color: #008000; text-decoration-color: #008000\">'llama3-groq-8b-8192-tool-use-preview'</span>,\n",
       "            <span style=\"color: #008000; text-decoration-color: #008000\">'object'</span>: <span style=\"color: #008000; text-decoration-color: #008000\">'model'</span>,\n",
       "            <span style=\"color: #008000; text-decoration-color: #008000\">'created'</span>: <span style=\"color: #008080; text-decoration-color: #008080; font-weight: bold\">1693721698</span>,\n",
       "            <span style=\"color: #008000; text-decoration-color: #008000\">'owned_by'</span>: <span style=\"color: #008000; text-decoration-color: #008000\">'Groq'</span>,\n",
       "            <span style=\"color: #008000; text-decoration-color: #008000\">'active'</span>: <span style=\"color: #00ff00; text-decoration-color: #00ff00; font-style: italic\">True</span>,\n",
       "            <span style=\"color: #008000; text-decoration-color: #008000\">'context_window'</span>: <span style=\"color: #008080; text-decoration-color: #008080; font-weight: bold\">8192</span>,\n",
       "            <span style=\"color: #008000; text-decoration-color: #008000\">'public_apps'</span>: <span style=\"color: #800080; text-decoration-color: #800080; font-style: italic\">None</span>\n",
       "        <span style=\"font-weight: bold\">}</span>,\n",
       "        <span style=\"font-weight: bold\">{</span>\n",
       "            <span style=\"color: #008000; text-decoration-color: #008000\">'id'</span>: <span style=\"color: #008000; text-decoration-color: #008000\">'llama-guard-3-8b'</span>,\n",
       "            <span style=\"color: #008000; text-decoration-color: #008000\">'object'</span>: <span style=\"color: #008000; text-decoration-color: #008000\">'model'</span>,\n",
       "            <span style=\"color: #008000; text-decoration-color: #008000\">'created'</span>: <span style=\"color: #008080; text-decoration-color: #008080; font-weight: bold\">1693721698</span>,\n",
       "            <span style=\"color: #008000; text-decoration-color: #008000\">'owned_by'</span>: <span style=\"color: #008000; text-decoration-color: #008000\">'Meta'</span>,\n",
       "            <span style=\"color: #008000; text-decoration-color: #008000\">'active'</span>: <span style=\"color: #00ff00; text-decoration-color: #00ff00; font-style: italic\">True</span>,\n",
       "            <span style=\"color: #008000; text-decoration-color: #008000\">'context_window'</span>: <span style=\"color: #008080; text-decoration-color: #008080; font-weight: bold\">8192</span>,\n",
       "            <span style=\"color: #008000; text-decoration-color: #008000\">'public_apps'</span>: <span style=\"color: #800080; text-decoration-color: #800080; font-style: italic\">None</span>\n",
       "        <span style=\"font-weight: bold\">}</span>,\n",
       "        <span style=\"font-weight: bold\">{</span>\n",
       "            <span style=\"color: #008000; text-decoration-color: #008000\">'id'</span>: <span style=\"color: #008000; text-decoration-color: #008000\">'mixtral-8x7b-32768'</span>,\n",
       "            <span style=\"color: #008000; text-decoration-color: #008000\">'object'</span>: <span style=\"color: #008000; text-decoration-color: #008000\">'model'</span>,\n",
       "            <span style=\"color: #008000; text-decoration-color: #008000\">'created'</span>: <span style=\"color: #008080; text-decoration-color: #008080; font-weight: bold\">1693721698</span>,\n",
       "            <span style=\"color: #008000; text-decoration-color: #008000\">'owned_by'</span>: <span style=\"color: #008000; text-decoration-color: #008000\">'Mistral AI'</span>,\n",
       "            <span style=\"color: #008000; text-decoration-color: #008000\">'active'</span>: <span style=\"color: #00ff00; text-decoration-color: #00ff00; font-style: italic\">True</span>,\n",
       "            <span style=\"color: #008000; text-decoration-color: #008000\">'context_window'</span>: <span style=\"color: #008080; text-decoration-color: #008080; font-weight: bold\">32768</span>,\n",
       "            <span style=\"color: #008000; text-decoration-color: #008000\">'public_apps'</span>: <span style=\"color: #800080; text-decoration-color: #800080; font-style: italic\">None</span>\n",
       "        <span style=\"font-weight: bold\">}</span>,\n",
       "        <span style=\"font-weight: bold\">{</span>\n",
       "            <span style=\"color: #008000; text-decoration-color: #008000\">'id'</span>: <span style=\"color: #008000; text-decoration-color: #008000\">'whisper-large-v3'</span>,\n",
       "            <span style=\"color: #008000; text-decoration-color: #008000\">'object'</span>: <span style=\"color: #008000; text-decoration-color: #008000\">'model'</span>,\n",
       "            <span style=\"color: #008000; text-decoration-color: #008000\">'created'</span>: <span style=\"color: #008080; text-decoration-color: #008080; font-weight: bold\">1693721698</span>,\n",
       "            <span style=\"color: #008000; text-decoration-color: #008000\">'owned_by'</span>: <span style=\"color: #008000; text-decoration-color: #008000\">'OpenAI'</span>,\n",
       "            <span style=\"color: #008000; text-decoration-color: #008000\">'active'</span>: <span style=\"color: #00ff00; text-decoration-color: #00ff00; font-style: italic\">True</span>,\n",
       "            <span style=\"color: #008000; text-decoration-color: #008000\">'context_window'</span>: <span style=\"color: #008080; text-decoration-color: #008080; font-weight: bold\">1500</span>,\n",
       "            <span style=\"color: #008000; text-decoration-color: #008000\">'public_apps'</span>: <span style=\"color: #800080; text-decoration-color: #800080; font-style: italic\">None</span>\n",
       "        <span style=\"font-weight: bold\">}</span>\n",
       "    <span style=\"font-weight: bold\">]</span>\n",
       "<span style=\"font-weight: bold\">}</span>\n",
       "</pre>\n"
      ],
      "text/plain": [
       "\u001b[1m{\u001b[0m\n",
       "    \u001b[32m'object'\u001b[0m: \u001b[32m'list'\u001b[0m,\n",
       "    \u001b[32m'data'\u001b[0m: \u001b[1m[\u001b[0m\n",
       "        \u001b[1m{\u001b[0m\n",
       "            \u001b[32m'id'\u001b[0m: \u001b[32m'distil-whisper-large-v3-en'\u001b[0m,\n",
       "            \u001b[32m'object'\u001b[0m: \u001b[32m'model'\u001b[0m,\n",
       "            \u001b[32m'created'\u001b[0m: \u001b[1;36m1693721698\u001b[0m,\n",
       "            \u001b[32m'owned_by'\u001b[0m: \u001b[32m'Groq'\u001b[0m,\n",
       "            \u001b[32m'active'\u001b[0m: \u001b[3;92mTrue\u001b[0m,\n",
       "            \u001b[32m'context_window'\u001b[0m: \u001b[1;36m1500\u001b[0m,\n",
       "            \u001b[32m'public_apps'\u001b[0m: \u001b[3;35mNone\u001b[0m\n",
       "        \u001b[1m}\u001b[0m,\n",
       "        \u001b[1m{\u001b[0m\n",
       "            \u001b[32m'id'\u001b[0m: \u001b[32m'gemma2-9b-it'\u001b[0m,\n",
       "            \u001b[32m'object'\u001b[0m: \u001b[32m'model'\u001b[0m,\n",
       "            \u001b[32m'created'\u001b[0m: \u001b[1;36m1693721698\u001b[0m,\n",
       "            \u001b[32m'owned_by'\u001b[0m: \u001b[32m'Google'\u001b[0m,\n",
       "            \u001b[32m'active'\u001b[0m: \u001b[3;92mTrue\u001b[0m,\n",
       "            \u001b[32m'context_window'\u001b[0m: \u001b[1;36m8192\u001b[0m,\n",
       "            \u001b[32m'public_apps'\u001b[0m: \u001b[3;35mNone\u001b[0m\n",
       "        \u001b[1m}\u001b[0m,\n",
       "        \u001b[1m{\u001b[0m\n",
       "            \u001b[32m'id'\u001b[0m: \u001b[32m'gemma-7b-it'\u001b[0m,\n",
       "            \u001b[32m'object'\u001b[0m: \u001b[32m'model'\u001b[0m,\n",
       "            \u001b[32m'created'\u001b[0m: \u001b[1;36m1693721698\u001b[0m,\n",
       "            \u001b[32m'owned_by'\u001b[0m: \u001b[32m'Google'\u001b[0m,\n",
       "            \u001b[32m'active'\u001b[0m: \u001b[3;92mTrue\u001b[0m,\n",
       "            \u001b[32m'context_window'\u001b[0m: \u001b[1;36m8192\u001b[0m,\n",
       "            \u001b[32m'public_apps'\u001b[0m: \u001b[3;35mNone\u001b[0m\n",
       "        \u001b[1m}\u001b[0m,\n",
       "        \u001b[1m{\u001b[0m\n",
       "            \u001b[32m'id'\u001b[0m: \u001b[32m'llama-3.1-70b-versatile'\u001b[0m,\n",
       "            \u001b[32m'object'\u001b[0m: \u001b[32m'model'\u001b[0m,\n",
       "            \u001b[32m'created'\u001b[0m: \u001b[1;36m1693721698\u001b[0m,\n",
       "            \u001b[32m'owned_by'\u001b[0m: \u001b[32m'Meta'\u001b[0m,\n",
       "            \u001b[32m'active'\u001b[0m: \u001b[3;92mTrue\u001b[0m,\n",
       "            \u001b[32m'context_window'\u001b[0m: \u001b[1;36m131072\u001b[0m,\n",
       "            \u001b[32m'public_apps'\u001b[0m: \u001b[3;35mNone\u001b[0m\n",
       "        \u001b[1m}\u001b[0m,\n",
       "        \u001b[1m{\u001b[0m\n",
       "            \u001b[32m'id'\u001b[0m: \u001b[32m'llama-3.1-8b-instant'\u001b[0m,\n",
       "            \u001b[32m'object'\u001b[0m: \u001b[32m'model'\u001b[0m,\n",
       "            \u001b[32m'created'\u001b[0m: \u001b[1;36m1693721698\u001b[0m,\n",
       "            \u001b[32m'owned_by'\u001b[0m: \u001b[32m'Meta'\u001b[0m,\n",
       "            \u001b[32m'active'\u001b[0m: \u001b[3;92mTrue\u001b[0m,\n",
       "            \u001b[32m'context_window'\u001b[0m: \u001b[1;36m131072\u001b[0m,\n",
       "            \u001b[32m'public_apps'\u001b[0m: \u001b[3;35mNone\u001b[0m\n",
       "        \u001b[1m}\u001b[0m,\n",
       "        \u001b[1m{\u001b[0m\n",
       "            \u001b[32m'id'\u001b[0m: \u001b[32m'llama3-70b-8192'\u001b[0m,\n",
       "            \u001b[32m'object'\u001b[0m: \u001b[32m'model'\u001b[0m,\n",
       "            \u001b[32m'created'\u001b[0m: \u001b[1;36m1693721698\u001b[0m,\n",
       "            \u001b[32m'owned_by'\u001b[0m: \u001b[32m'Meta'\u001b[0m,\n",
       "            \u001b[32m'active'\u001b[0m: \u001b[3;92mTrue\u001b[0m,\n",
       "            \u001b[32m'context_window'\u001b[0m: \u001b[1;36m8192\u001b[0m,\n",
       "            \u001b[32m'public_apps'\u001b[0m: \u001b[3;35mNone\u001b[0m\n",
       "        \u001b[1m}\u001b[0m,\n",
       "        \u001b[1m{\u001b[0m\n",
       "            \u001b[32m'id'\u001b[0m: \u001b[32m'llama3-8b-8192'\u001b[0m,\n",
       "            \u001b[32m'object'\u001b[0m: \u001b[32m'model'\u001b[0m,\n",
       "            \u001b[32m'created'\u001b[0m: \u001b[1;36m1693721698\u001b[0m,\n",
       "            \u001b[32m'owned_by'\u001b[0m: \u001b[32m'Meta'\u001b[0m,\n",
       "            \u001b[32m'active'\u001b[0m: \u001b[3;92mTrue\u001b[0m,\n",
       "            \u001b[32m'context_window'\u001b[0m: \u001b[1;36m8192\u001b[0m,\n",
       "            \u001b[32m'public_apps'\u001b[0m: \u001b[3;35mNone\u001b[0m\n",
       "        \u001b[1m}\u001b[0m,\n",
       "        \u001b[1m{\u001b[0m\n",
       "            \u001b[32m'id'\u001b[0m: \u001b[32m'llama3-groq-70b-8192-tool-use-preview'\u001b[0m,\n",
       "            \u001b[32m'object'\u001b[0m: \u001b[32m'model'\u001b[0m,\n",
       "            \u001b[32m'created'\u001b[0m: \u001b[1;36m1693721698\u001b[0m,\n",
       "            \u001b[32m'owned_by'\u001b[0m: \u001b[32m'Groq'\u001b[0m,\n",
       "            \u001b[32m'active'\u001b[0m: \u001b[3;92mTrue\u001b[0m,\n",
       "            \u001b[32m'context_window'\u001b[0m: \u001b[1;36m8192\u001b[0m,\n",
       "            \u001b[32m'public_apps'\u001b[0m: \u001b[3;35mNone\u001b[0m\n",
       "        \u001b[1m}\u001b[0m,\n",
       "        \u001b[1m{\u001b[0m\n",
       "            \u001b[32m'id'\u001b[0m: \u001b[32m'llama3-groq-8b-8192-tool-use-preview'\u001b[0m,\n",
       "            \u001b[32m'object'\u001b[0m: \u001b[32m'model'\u001b[0m,\n",
       "            \u001b[32m'created'\u001b[0m: \u001b[1;36m1693721698\u001b[0m,\n",
       "            \u001b[32m'owned_by'\u001b[0m: \u001b[32m'Groq'\u001b[0m,\n",
       "            \u001b[32m'active'\u001b[0m: \u001b[3;92mTrue\u001b[0m,\n",
       "            \u001b[32m'context_window'\u001b[0m: \u001b[1;36m8192\u001b[0m,\n",
       "            \u001b[32m'public_apps'\u001b[0m: \u001b[3;35mNone\u001b[0m\n",
       "        \u001b[1m}\u001b[0m,\n",
       "        \u001b[1m{\u001b[0m\n",
       "            \u001b[32m'id'\u001b[0m: \u001b[32m'llama-guard-3-8b'\u001b[0m,\n",
       "            \u001b[32m'object'\u001b[0m: \u001b[32m'model'\u001b[0m,\n",
       "            \u001b[32m'created'\u001b[0m: \u001b[1;36m1693721698\u001b[0m,\n",
       "            \u001b[32m'owned_by'\u001b[0m: \u001b[32m'Meta'\u001b[0m,\n",
       "            \u001b[32m'active'\u001b[0m: \u001b[3;92mTrue\u001b[0m,\n",
       "            \u001b[32m'context_window'\u001b[0m: \u001b[1;36m8192\u001b[0m,\n",
       "            \u001b[32m'public_apps'\u001b[0m: \u001b[3;35mNone\u001b[0m\n",
       "        \u001b[1m}\u001b[0m,\n",
       "        \u001b[1m{\u001b[0m\n",
       "            \u001b[32m'id'\u001b[0m: \u001b[32m'mixtral-8x7b-32768'\u001b[0m,\n",
       "            \u001b[32m'object'\u001b[0m: \u001b[32m'model'\u001b[0m,\n",
       "            \u001b[32m'created'\u001b[0m: \u001b[1;36m1693721698\u001b[0m,\n",
       "            \u001b[32m'owned_by'\u001b[0m: \u001b[32m'Mistral AI'\u001b[0m,\n",
       "            \u001b[32m'active'\u001b[0m: \u001b[3;92mTrue\u001b[0m,\n",
       "            \u001b[32m'context_window'\u001b[0m: \u001b[1;36m32768\u001b[0m,\n",
       "            \u001b[32m'public_apps'\u001b[0m: \u001b[3;35mNone\u001b[0m\n",
       "        \u001b[1m}\u001b[0m,\n",
       "        \u001b[1m{\u001b[0m\n",
       "            \u001b[32m'id'\u001b[0m: \u001b[32m'whisper-large-v3'\u001b[0m,\n",
       "            \u001b[32m'object'\u001b[0m: \u001b[32m'model'\u001b[0m,\n",
       "            \u001b[32m'created'\u001b[0m: \u001b[1;36m1693721698\u001b[0m,\n",
       "            \u001b[32m'owned_by'\u001b[0m: \u001b[32m'OpenAI'\u001b[0m,\n",
       "            \u001b[32m'active'\u001b[0m: \u001b[3;92mTrue\u001b[0m,\n",
       "            \u001b[32m'context_window'\u001b[0m: \u001b[1;36m1500\u001b[0m,\n",
       "            \u001b[32m'public_apps'\u001b[0m: \u001b[3;35mNone\u001b[0m\n",
       "        \u001b[1m}\u001b[0m\n",
       "    \u001b[1m]\u001b[0m\n",
       "\u001b[1m}\u001b[0m\n"
      ]
     },
     "metadata": {},
     "output_type": "display_data"
    }
   ],
   "source": [
    "import requests\n",
    "import os\n",
    "\n",
    "api_key = \"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\"\n",
    "url = \"https://api.groq.com/openai/v1/models\"\n",
    "\n",
    "headers = {\n",
    "    \"Authorization\": f\"Bearer {api_key}\",\n",
    "    \"Content-Type\": \"application/json\"\n",
    "}\n",
    "\n",
    "response = requests.get(url, headers=headers)\n",
    "\n",
    "print(response.json())"
   ]
  },
  {
   "cell_type": "code",
   "execution_count": 31,
   "metadata": {},
   "outputs": [
    {
     "data": {
      "text/html": [
       "<pre style=\"white-space:pre;overflow-x:auto;line-height:normal;font-family:Menlo,'DejaVu Sans Mono',consolas,'Courier New',monospace\">Fast language models, also known as efficient language models or lightweight language models, have gained \n",
       "significant attention in recent years due to their importance in various applications. Here are some reasons why \n",
       "fast language models are crucial:\n",
       "\n",
       "<span style=\"color: #008080; text-decoration-color: #008080; font-weight: bold\">1</span>. **Scalability**: Fast language models can process large amounts of text data quickly, making them suitable for \n",
       "real-time applications such as chatbots, virtual assistants, and language translation services. This scalability \n",
       "enables them to handle a large number of users and conversations simultaneously.\n",
       "<span style=\"color: #008080; text-decoration-color: #008080; font-weight: bold\">2</span>. **Resource Efficiency**: Fast language models are designed to be computationally efficient, using fewer \n",
       "resources <span style=\"font-weight: bold\">(</span>e.g., memory, CPU<span style=\"font-weight: bold\">)</span> compared to traditional language models. This is particularly important for mobile \n",
       "devices, embedded systems, or cloud-based services with limited resources.\n",
       "<span style=\"color: #008080; text-decoration-color: #008080; font-weight: bold\">3</span>. **Latency Reduction**: Fast language models can reduce the latency associated with language processing, enabling\n",
       "faster response times and improving the overall user experience. This is critical in applications where instant \n",
       "responses are essential, such as voice assistants or instant messaging apps.\n",
       "<span style=\"color: #008080; text-decoration-color: #008080; font-weight: bold\">4</span>. **Real-time Processing**: Fast language models can process text data in real-time, allowing for applications \n",
       "like live transcription, language translation, or sentiment analysis to work seamlessly.\n",
       "<span style=\"color: #008080; text-decoration-color: #008080; font-weight: bold\">5</span>. **Edge AI**: Fast language models can be deployed on edge devices, such as smartphones, smart home devices, or \n",
       "IoT devices, enabling AI-powered language processing at the edge. This reduces the need for data to be transmitted \n",
       "to the cloud or a central server, improving security, privacy, and latency.\n",
       "<span style=\"color: #008080; text-decoration-color: #008080; font-weight: bold\">6</span>. **Improved User Experience**: Fast language models can enable more conversational and interactive experiences, \n",
       "such as voice-controlled interfaces, chatbots, or language translation apps. This can lead to increased user \n",
       "engagement, satisfaction, and loyalty.\n",
       "<span style=\"color: #008080; text-decoration-color: #008080; font-weight: bold\">7</span>. **Faster Development**: Fast language models can accelerate the development of language-based applications, as \n",
       "they can be trained and deployed more quickly than traditional language models. This reduces the time-to-market and\n",
       "enables faster iteration and improvement.\n",
       "<span style=\"color: #008080; text-decoration-color: #008080; font-weight: bold\">8</span>. **Better Adaptability**: Fast language models can be designed to adapt to changing language patterns, dialects, \n",
       "or domains, making them more versatile and effective in various applications.\n",
       "<span style=\"color: #008080; text-decoration-color: #008080; font-weight: bold\">9</span>. **Enhanced Security**: Fast language models can be used to detect and prevent language-based attacks, such as \n",
       "spam, phishing, or malware, by quickly analyzing and identifying suspicious language patterns.\n",
       "<span style=\"color: #008080; text-decoration-color: #008080; font-weight: bold\">10</span>. **Advancements in AI**: The development of fast language models has driven innovations in other areas of AI, \n",
       "such as computer vision, speech recognition, and natural language understanding. This has led to a broader range of\n",
       "AI applications and improved overall AI capabilities.\n",
       "\n",
       "In summary, fast language models are essential for building efficient, scalable, and real-time language processing \n",
       "applications that can handle large amounts of data, reduce latency, and improve the user experience. Their \n",
       "importance lies in their ability to enable a wide range of applications, from chatbots and virtual assistants to \n",
       "language translation services and edge AI.\n",
       "</pre>\n"
      ],
      "text/plain": [
       "Fast language models, also known as efficient language models or lightweight language models, have gained \n",
       "significant attention in recent years due to their importance in various applications. Here are some reasons why \n",
       "fast language models are crucial:\n",
       "\n",
       "\u001b[1;36m1\u001b[0m. **Scalability**: Fast language models can process large amounts of text data quickly, making them suitable for \n",
       "real-time applications such as chatbots, virtual assistants, and language translation services. This scalability \n",
       "enables them to handle a large number of users and conversations simultaneously.\n",
       "\u001b[1;36m2\u001b[0m. **Resource Efficiency**: Fast language models are designed to be computationally efficient, using fewer \n",
       "resources \u001b[1m(\u001b[0me.g., memory, CPU\u001b[1m)\u001b[0m compared to traditional language models. This is particularly important for mobile \n",
       "devices, embedded systems, or cloud-based services with limited resources.\n",
       "\u001b[1;36m3\u001b[0m. **Latency Reduction**: Fast language models can reduce the latency associated with language processing, enabling\n",
       "faster response times and improving the overall user experience. This is critical in applications where instant \n",
       "responses are essential, such as voice assistants or instant messaging apps.\n",
       "\u001b[1;36m4\u001b[0m. **Real-time Processing**: Fast language models can process text data in real-time, allowing for applications \n",
       "like live transcription, language translation, or sentiment analysis to work seamlessly.\n",
       "\u001b[1;36m5\u001b[0m. **Edge AI**: Fast language models can be deployed on edge devices, such as smartphones, smart home devices, or \n",
       "IoT devices, enabling AI-powered language processing at the edge. This reduces the need for data to be transmitted \n",
       "to the cloud or a central server, improving security, privacy, and latency.\n",
       "\u001b[1;36m6\u001b[0m. **Improved User Experience**: Fast language models can enable more conversational and interactive experiences, \n",
       "such as voice-controlled interfaces, chatbots, or language translation apps. This can lead to increased user \n",
       "engagement, satisfaction, and loyalty.\n",
       "\u001b[1;36m7\u001b[0m. **Faster Development**: Fast language models can accelerate the development of language-based applications, as \n",
       "they can be trained and deployed more quickly than traditional language models. This reduces the time-to-market and\n",
       "enables faster iteration and improvement.\n",
       "\u001b[1;36m8\u001b[0m. **Better Adaptability**: Fast language models can be designed to adapt to changing language patterns, dialects, \n",
       "or domains, making them more versatile and effective in various applications.\n",
       "\u001b[1;36m9\u001b[0m. **Enhanced Security**: Fast language models can be used to detect and prevent language-based attacks, such as \n",
       "spam, phishing, or malware, by quickly analyzing and identifying suspicious language patterns.\n",
       "\u001b[1;36m10\u001b[0m. **Advancements in AI**: The development of fast language models has driven innovations in other areas of AI, \n",
       "such as computer vision, speech recognition, and natural language understanding. This has led to a broader range of\n",
       "AI applications and improved overall AI capabilities.\n",
       "\n",
       "In summary, fast language models are essential for building efficient, scalable, and real-time language processing \n",
       "applications that can handle large amounts of data, reduce latency, and improve the user experience. Their \n",
       "importance lies in their ability to enable a wide range of applications, from chatbots and virtual assistants to \n",
       "language translation services and edge AI.\n"
      ]
     },
     "metadata": {},
     "output_type": "display_data"
    }
   ],
   "source": [
    "from groq import Groq\n",
    "\n",
    "client = Groq(api_key=\"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\")\n",
    "\n",
    "chat_completion = client.chat.completions.create(\n",
    "    #\n",
    "    # Required parameters\n",
    "    #\n",
    "    messages=[\n",
    "        # Set an optional system message. This sets the behavior of the\n",
    "        # assistant and can be used to provide specific instructions for\n",
    "        # how it should behave throughout the conversation.\n",
    "        {\n",
    "            \"role\": \"system\",\n",
    "            \"content\": \"you are a helpful assistant.\"\n",
    "        },\n",
    "        # Set a user message for the assistant to respond to.\n",
    "        {\n",
    "            \"role\": \"user\",\n",
    "            \"content\": \"Explain the importance of fast language models\",\n",
    "        }\n",
    "    ],\n",
    "\n",
    "    # The language model which will generate the completion.\n",
    "    model=\"llama3-8b-8192\",\n",
    "\n",
    "    #\n",
    "    # Optional parameters\n",
    "    #\n",
    "\n",
    "    # Controls randomness: lowering results in less random completions.\n",
    "    # As the temperature approaches zero, the model will become deterministic\n",
    "    # and repetitive.\n",
    "    temperature=0.5,\n",
    "\n",
    "    # The maximum number of tokens to generate. Requests can use up to\n",
    "    # 32,768 tokens shared between prompt and completion.\n",
    "    max_tokens=1024,\n",
    "\n",
    "    # Controls diversity via nucleus sampling: 0.5 means half of all\n",
    "    # likelihood-weighted options are considered.\n",
    "    top_p=1,\n",
    "\n",
    "    # A stop sequence is a predefined or user-specified text string that\n",
    "    # signals an AI to stop generating content, ensuring its responses\n",
    "    # remain focused and concise. Examples include punctuation marks and\n",
    "    # markers like \"[end]\".\n",
    "    stop=None,\n",
    "\n",
    "    # If set, partial message deltas will be sent.\n",
    "    stream=False,\n",
    ")\n",
    "\n",
    "# Print the completion returned by the LLM.\n",
    "print(chat_completion.choices[0].message.content)"
   ]
  },
  {
   "cell_type": "code",
   "execution_count": 33,
   "metadata": {},
   "outputs": [
    {
     "data": {
      "text/html": [
       "<pre style=\"white-space:pre;overflow-x:auto;line-height:normal;font-family:Menlo,'DejaVu Sans Mono',consolas,'Courier New',monospace\">Recipe: Apple Pie\n",
       "</pre>\n"
      ],
      "text/plain": [
       "Recipe: Apple Pie\n"
      ]
     },
     "metadata": {},
     "output_type": "display_data"
    },
    {
     "data": {
      "text/html": [
       "<pre style=\"white-space:pre;overflow-x:auto;line-height:normal;font-family:Menlo,'DejaVu Sans Mono',consolas,'Courier New',monospace\">\n",
       "Ingredients:\n",
       "</pre>\n"
      ],
      "text/plain": [
       "\n",
       "Ingredients:\n"
      ]
     },
     "metadata": {},
     "output_type": "display_data"
    },
    {
     "data": {
      "text/html": [
       "<pre style=\"white-space:pre;overflow-x:auto;line-height:normal;font-family:Menlo,'DejaVu Sans Mono',consolas,'Courier New',monospace\">- All-purpose flour: <span style=\"color: #008080; text-decoration-color: #008080; font-weight: bold\">2</span> <span style=\"color: #008080; text-decoration-color: #008080; font-weight: bold\">1</span>/<span style=\"color: #008080; text-decoration-color: #008080; font-weight: bold\">4</span> cups cups\n",
       "</pre>\n"
      ],
      "text/plain": [
       "- All-purpose flour: \u001b[1;36m2\u001b[0m \u001b[1;36m1\u001b[0m/\u001b[1;36m4\u001b[0m cups cups\n"
      ]
     },
     "metadata": {},
     "output_type": "display_data"
    },
    {
     "data": {
      "text/html": [
       "<pre style=\"white-space:pre;overflow-x:auto;line-height:normal;font-family:Menlo,'DejaVu Sans Mono',consolas,'Courier New',monospace\">- Cold unsalted butter: <span style=\"color: #008080; text-decoration-color: #008080; font-weight: bold\">1</span> cup cups\n",
       "</pre>\n"
      ],
      "text/plain": [
       "- Cold unsalted butter: \u001b[1;36m1\u001b[0m cup cups\n"
      ]
     },
     "metadata": {},
     "output_type": "display_data"
    },
    {
     "data": {
      "text/html": [
       "<pre style=\"white-space:pre;overflow-x:auto;line-height:normal;font-family:Menlo,'DejaVu Sans Mono',consolas,'Courier New',monospace\">- Granulated sugar: <span style=\"color: #008080; text-decoration-color: #008080; font-weight: bold\">1</span>/<span style=\"color: #008080; text-decoration-color: #008080; font-weight: bold\">2</span> cup cups\n",
       "</pre>\n"
      ],
      "text/plain": [
       "- Granulated sugar: \u001b[1;36m1\u001b[0m/\u001b[1;36m2\u001b[0m cup cups\n"
      ]
     },
     "metadata": {},
     "output_type": "display_data"
    },
    {
     "data": {
      "text/html": [
       "<pre style=\"white-space:pre;overflow-x:auto;line-height:normal;font-family:Menlo,'DejaVu Sans Mono',consolas,'Courier New',monospace\">- Salt: <span style=\"color: #008080; text-decoration-color: #008080; font-weight: bold\">1</span>/<span style=\"color: #008080; text-decoration-color: #008080; font-weight: bold\">4</span> teaspoon teaspoons\n",
       "</pre>\n"
      ],
      "text/plain": [
       "- Salt: \u001b[1;36m1\u001b[0m/\u001b[1;36m4\u001b[0m teaspoon teaspoons\n"
      ]
     },
     "metadata": {},
     "output_type": "display_data"
    },
    {
     "data": {
      "text/html": [
       "<pre style=\"white-space:pre;overflow-x:auto;line-height:normal;font-family:Menlo,'DejaVu Sans Mono',consolas,'Courier New',monospace\">- Ground cinnamon: <span style=\"color: #008080; text-decoration-color: #008080; font-weight: bold\">1</span>/<span style=\"color: #008080; text-decoration-color: #008080; font-weight: bold\">2</span> teaspoon teaspoons\n",
       "</pre>\n"
      ],
      "text/plain": [
       "- Ground cinnamon: \u001b[1;36m1\u001b[0m/\u001b[1;36m2\u001b[0m teaspoon teaspoons\n"
      ]
     },
     "metadata": {},
     "output_type": "display_data"
    },
    {
     "data": {
      "text/html": [
       "<pre style=\"white-space:pre;overflow-x:auto;line-height:normal;font-family:Menlo,'DejaVu Sans Mono',consolas,'Courier New',monospace\">- Ground nutmeg: <span style=\"color: #008080; text-decoration-color: #008080; font-weight: bold\">1</span>/<span style=\"color: #008080; text-decoration-color: #008080; font-weight: bold\">4</span> teaspoon teaspoons\n",
       "</pre>\n"
      ],
      "text/plain": [
       "- Ground nutmeg: \u001b[1;36m1\u001b[0m/\u001b[1;36m4\u001b[0m teaspoon teaspoons\n"
      ]
     },
     "metadata": {},
     "output_type": "display_data"
    },
    {
     "data": {
      "text/html": [
       "<pre style=\"white-space:pre;overflow-x:auto;line-height:normal;font-family:Menlo,'DejaVu Sans Mono',consolas,'Courier New',monospace\">- Large eggs: <span style=\"color: #008080; text-decoration-color: #008080; font-weight: bold\">2</span> count\n",
       "</pre>\n"
      ],
      "text/plain": [
       "- Large eggs: \u001b[1;36m2\u001b[0m count\n"
      ]
     },
     "metadata": {},
     "output_type": "display_data"
    },
    {
     "data": {
      "text/html": [
       "<pre style=\"white-space:pre;overflow-x:auto;line-height:normal;font-family:Menlo,'DejaVu Sans Mono',consolas,'Courier New',monospace\">- Apple cider vinegar: <span style=\"color: #008080; text-decoration-color: #008080; font-weight: bold\">1</span> tablespoon tablespoons\n",
       "</pre>\n"
      ],
      "text/plain": [
       "- Apple cider vinegar: \u001b[1;36m1\u001b[0m tablespoon tablespoons\n"
      ]
     },
     "metadata": {},
     "output_type": "display_data"
    },
    {
     "data": {
      "text/html": [
       "<pre style=\"white-space:pre;overflow-x:auto;line-height:normal;font-family:Menlo,'DejaVu Sans Mono',consolas,'Courier New',monospace\">- Apples, peeled and sliced: <span style=\"color: #008080; text-decoration-color: #008080; font-weight: bold\">6</span>-<span style=\"color: #008080; text-decoration-color: #008080; font-weight: bold\">8</span> count\n",
       "</pre>\n"
      ],
      "text/plain": [
       "- Apples, peeled and sliced: \u001b[1;36m6\u001b[0m-\u001b[1;36m8\u001b[0m count\n"
      ]
     },
     "metadata": {},
     "output_type": "display_data"
    },
    {
     "data": {
      "text/html": [
       "<pre style=\"white-space:pre;overflow-x:auto;line-height:normal;font-family:Menlo,'DejaVu Sans Mono',consolas,'Courier New',monospace\">\n",
       "Directions:\n",
       "</pre>\n"
      ],
      "text/plain": [
       "\n",
       "Directions:\n"
      ]
     },
     "metadata": {},
     "output_type": "display_data"
    },
    {
     "data": {
      "text/html": [
       "<pre style=\"white-space:pre;overflow-x:auto;line-height:normal;font-family:Menlo,'DejaVu Sans Mono',consolas,'Courier New',monospace\"><span style=\"color: #008080; text-decoration-color: #008080; font-weight: bold\">1</span>. Preheat oven to <span style=\"color: #008080; text-decoration-color: #008080; font-weight: bold\">375</span>°F <span style=\"font-weight: bold\">(</span><span style=\"color: #008080; text-decoration-color: #008080; font-weight: bold\">190</span>°C<span style=\"font-weight: bold\">)</span>.\n",
       "</pre>\n"
      ],
      "text/plain": [
       "\u001b[1;36m1\u001b[0m. Preheat oven to \u001b[1;36m375\u001b[0m°F \u001b[1m(\u001b[0m\u001b[1;36m190\u001b[0m°C\u001b[1m)\u001b[0m.\n"
      ]
     },
     "metadata": {},
     "output_type": "display_data"
    },
    {
     "data": {
      "text/html": [
       "<pre style=\"white-space:pre;overflow-x:auto;line-height:normal;font-family:Menlo,'DejaVu Sans Mono',consolas,'Courier New',monospace\"><span style=\"color: #008080; text-decoration-color: #008080; font-weight: bold\">2</span>. Make the crust: In a large bowl, whisk together flour, salt, and sugar. Add butter and use a pastry blender or \n",
       "your fingers to work it into the flour until the mixture resembles coarse crumbs.\n",
       "</pre>\n"
      ],
      "text/plain": [
       "\u001b[1;36m2\u001b[0m. Make the crust: In a large bowl, whisk together flour, salt, and sugar. Add butter and use a pastry blender or \n",
       "your fingers to work it into the flour until the mixture resembles coarse crumbs.\n"
      ]
     },
     "metadata": {},
     "output_type": "display_data"
    },
    {
     "data": {
      "text/html": [
       "<pre style=\"white-space:pre;overflow-x:auto;line-height:normal;font-family:Menlo,'DejaVu Sans Mono',consolas,'Courier New',monospace\"><span style=\"color: #008080; text-decoration-color: #008080; font-weight: bold\">3</span>. Make the filling: In a separate bowl, whisk together eggs, apple cider vinegar, cinnamon, and nutmeg. Add the \n",
       "sliced apples and toss until they're evenly coated.\n",
       "</pre>\n"
      ],
      "text/plain": [
       "\u001b[1;36m3\u001b[0m. Make the filling: In a separate bowl, whisk together eggs, apple cider vinegar, cinnamon, and nutmeg. Add the \n",
       "sliced apples and toss until they're evenly coated.\n"
      ]
     },
     "metadata": {},
     "output_type": "display_data"
    },
    {
     "data": {
      "text/html": [
       "<pre style=\"white-space:pre;overflow-x:auto;line-height:normal;font-family:Menlo,'DejaVu Sans Mono',consolas,'Courier New',monospace\"><span style=\"color: #008080; text-decoration-color: #008080; font-weight: bold\">4</span>. Assemble the pie: Roll out the crust on a lightly floured surface to a thickness of about <span style=\"color: #008080; text-decoration-color: #008080; font-weight: bold\">1</span>/<span style=\"color: #008080; text-decoration-color: #008080; font-weight: bold\">8</span> inch. Transfer the\n",
       "dough to a <span style=\"color: #008080; text-decoration-color: #008080; font-weight: bold\">9</span>-inch pie dish and trim the edges to fit.\n",
       "</pre>\n"
      ],
      "text/plain": [
       "\u001b[1;36m4\u001b[0m. Assemble the pie: Roll out the crust on a lightly floured surface to a thickness of about \u001b[1;36m1\u001b[0m/\u001b[1;36m8\u001b[0m inch. Transfer the\n",
       "dough to a \u001b[1;36m9\u001b[0m-inch pie dish and trim the edges to fit.\n"
      ]
     },
     "metadata": {},
     "output_type": "display_data"
    },
    {
     "data": {
      "text/html": [
       "<pre style=\"white-space:pre;overflow-x:auto;line-height:normal;font-family:Menlo,'DejaVu Sans Mono',consolas,'Courier New',monospace\"><span style=\"color: #008080; text-decoration-color: #008080; font-weight: bold\">5</span>. Fill the pie: Pour the apple mixture into the pie crust and spread it out evenly.\n",
       "</pre>\n"
      ],
      "text/plain": [
       "\u001b[1;36m5\u001b[0m. Fill the pie: Pour the apple mixture into the pie crust and spread it out evenly.\n"
      ]
     },
     "metadata": {},
     "output_type": "display_data"
    },
    {
     "data": {
      "text/html": [
       "<pre style=\"white-space:pre;overflow-x:auto;line-height:normal;font-family:Menlo,'DejaVu Sans Mono',consolas,'Courier New',monospace\"><span style=\"color: #008080; text-decoration-color: #008080; font-weight: bold\">6</span>. Cover the pie: Roll out the remaining crust to a thickness of about <span style=\"color: #008080; text-decoration-color: #008080; font-weight: bold\">1</span>/<span style=\"color: #008080; text-decoration-color: #008080; font-weight: bold\">8</span> inch. Use a pastry cutter or a knife to \n",
       "cut the crust into strips for a lattice-top crust.\n",
       "</pre>\n"
      ],
      "text/plain": [
       "\u001b[1;36m6\u001b[0m. Cover the pie: Roll out the remaining crust to a thickness of about \u001b[1;36m1\u001b[0m/\u001b[1;36m8\u001b[0m inch. Use a pastry cutter or a knife to \n",
       "cut the crust into strips for a lattice-top crust.\n"
      ]
     },
     "metadata": {},
     "output_type": "display_data"
    },
    {
     "data": {
      "text/html": [
       "<pre style=\"white-space:pre;overflow-x:auto;line-height:normal;font-family:Menlo,'DejaVu Sans Mono',consolas,'Courier New',monospace\"><span style=\"color: #008080; text-decoration-color: #008080; font-weight: bold\">7</span>. Bake the pie: Place the pie on a baking sheet lined with parchment paper and bake for <span style=\"color: #008080; text-decoration-color: #008080; font-weight: bold\">45</span>-<span style=\"color: #008080; text-decoration-color: #008080; font-weight: bold\">50</span> minutes, or until \n",
       "the crust is golden brown and the apples are tender.\n",
       "</pre>\n"
      ],
      "text/plain": [
       "\u001b[1;36m7\u001b[0m. Bake the pie: Place the pie on a baking sheet lined with parchment paper and bake for \u001b[1;36m45\u001b[0m-\u001b[1;36m50\u001b[0m minutes, or until \n",
       "the crust is golden brown and the apples are tender.\n"
      ]
     },
     "metadata": {},
     "output_type": "display_data"
    }
   ],
   "source": [
    "from typing import List, Optional\n",
    "import json\n",
    "\n",
    "from pydantic import BaseModel\n",
    "from groq import Groq\n",
    "\n",
    "groq = Groq(api_key=\"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\")\n",
    "\n",
    "\n",
    "# Data model for LLM to generate\n",
    "class Ingredient(BaseModel):\n",
    "    name: str\n",
    "    quantity: str\n",
    "    quantity_unit: Optional[str]\n",
    "\n",
    "\n",
    "class Recipe(BaseModel):\n",
    "    recipe_name: str\n",
    "    ingredients: List[Ingredient]\n",
    "    directions: List[str]\n",
    "\n",
    "\n",
    "def get_recipe(recipe_name: str) -> Recipe:\n",
    "    chat_completion = groq.chat.completions.create(\n",
    "        messages=[\n",
    "            {\n",
    "                \"role\": \"system\",\n",
    "                \"content\": \"You are a recipe database that outputs recipes in JSON.\\n\"\n",
    "                # Pass the json schema to the model. Pretty printing improves results.\n",
    "                f\" The JSON object must use the schema: {json.dumps(Recipe.model_json_schema(), indent=2)}\",\n",
    "            },\n",
    "            {\n",
    "                \"role\": \"user\",\n",
    "                \"content\": f\"Fetch a recipe for {recipe_name}\",\n",
    "            },\n",
    "        ],\n",
    "        model=\"llama3-8b-8192\",\n",
    "        temperature=0,\n",
    "        # Streaming is not supported in JSON mode\n",
    "        stream=False,\n",
    "        # Enable JSON mode by setting the response format\n",
    "        response_format={\"type\": \"json_object\"},\n",
    "    )\n",
    "    return Recipe.model_validate_json(chat_completion.choices[0].message.content)\n",
    "\n",
    "\n",
    "def print_recipe(recipe: Recipe):\n",
    "    print(\"Recipe:\", recipe.recipe_name)\n",
    "\n",
    "    print(\"\\nIngredients:\")\n",
    "    for ingredient in recipe.ingredients:\n",
    "        print(\n",
    "            f\"- {ingredient.name}: {ingredient.quantity} {ingredient.quantity_unit or ''}\"\n",
    "        )\n",
    "    print(\"\\nDirections:\")\n",
    "    for step, direction in enumerate(recipe.directions, start=1):\n",
    "        print(f\"{step}. {direction}\")\n",
    "\n",
    "\n",
    "recipe = get_recipe(\"apple pie\")\n",
    "print_recipe(recipe)\n"
   ]
  },
  {
   "cell_type": "code",
   "execution_count": 7,
   "metadata": {},
   "outputs": [
    {
     "data": {
      "text/markdown": [
       "**What is PCOS?**\n",
       "-----------------\n",
       "\n",
       "Polycystic ovary syndrome (PCOS) is a common condition that affects how a woman's ovaries work. It's characterized by three main features: irregular periods, excess androgen (high levels of \"male\" hormones), and polycystic ovaries (enlarged ovaries with many fluid-filled sacs).\n",
       "\n",
       "**How to Prevent PCOS?**\n",
       "-------------------------\n",
       "\n",
       "Unfortunately, there is no surefire way to prevent PCOS, as the exact cause is unknown. However, maintaining a healthy lifestyle can help reduce the risk of developing PCOS:\n",
       "\n",
       "* **Maintain a healthy weight**: Being overweight or obese can increase the risk of developing PCOS.\n",
       "* **Eat a balanced diet**: A healthy diet can help regulate hormone levels and insulin sensitivity.\n",
       "* **Exercise regularly**: Regular physical activity can improve insulin sensitivity and reduce the risk of PCOS.\n",
       "\n",
       "While these lifestyle changes can't guarantee prevention, they can help reduce the risk of developing PCOS and its associated symptoms."
      ],
      "text/plain": [
       "<IPython.core.display.Markdown object>"
      ]
     },
     "execution_count": 7,
     "metadata": {},
     "output_type": "execute_result"
    }
   ],
   "source": [
    "Markdown(\"**What is PCOS?**\\n-----------------\\n\\nPolycystic ovary syndrome (PCOS) is a common condition that affects how a woman's ovaries work. It's characterized by three main features: irregular periods, excess androgen (high levels of \\\"male\\\" hormones), and polycystic ovaries (enlarged ovaries with many fluid-filled sacs).\\n\\n**How to Prevent PCOS?**\\n-------------------------\\n\\nUnfortunately, there is no surefire way to prevent PCOS, as the exact cause is unknown. However, maintaining a healthy lifestyle can help reduce the risk of developing PCOS:\\n\\n* **Maintain a healthy weight**: Being overweight or obese can increase the risk of developing PCOS.\\n* **Eat a balanced diet**: A healthy diet can help regulate hormone levels and insulin sensitivity.\\n* **Exercise regularly**: Regular physical activity can improve insulin sensitivity and reduce the risk of PCOS.\\n\\nWhile these lifestyle changes can't guarantee prevention, they can help reduce the risk of developing PCOS and its associated symptoms.\")"
   ]
  },
  {
   "cell_type": "code",
   "execution_count": 1,
   "metadata": {},
   "outputs": [
    {
     "name": "stdout",
     "output_type": "stream",
     "text": [
      "Status Code: 200\n",
      "Response JSON: [{'result': '**Factors for Fatty Liver Stage 1:**\\n* Being overweight or obese, particularly with fat around the waist\\n* Having type 2 diabetes\\n* Having a condition that affects insulin resistance\\n* Having high blood pressure\\n* Having high cholesterol\\n* Having metabolic syndrome\\n* Being over 50 years old\\n* Smoking\\n\\n**How to Prevent Fatty Liver Stage 1:**\\n* Lose weight and maintain a healthy BMI (18.5-24.9)\\n* Eat a balanced diet with plenty of fruits, vegetables, protein, and whole grains\\n* Drink water instead of sweet drinks\\n* Exercise regularly (at least 150 minutes of moderate-intensity activity per week)\\n* Stop smoking\\n* Limit or avoid alcohol consumption', 'document_id': 'non-alcoholic-fatty-liver-disease.md'}]\n"
     ]
    }
   ],
   "source": [
    "import requests\n",
    "\n",
    "# Define the URL of the FastAPI endpoint\n",
    "url = \"http://127.0.0.1:8000/get-response/\"\n",
    "\n",
    "# Define the payload\n",
    "payload = {\n",
    "    \"query\": \"what are the factors for fatty liver stage 1 and how to prevent it?\",\n",
    "    \"n_results\": 1\n",
    "}\n",
    "\n",
    "# Make the POST request\n",
    "response = requests.post(url, json=payload)\n",
    "\n",
    "# Print the response from the server\n",
    "print(\"Status Code:\", response.status_code)\n",
    "print(\"Response JSON:\", response.json())\n"
   ]
  },
  {
   "cell_type": "code",
   "execution_count": 8,
   "metadata": {},
   "outputs": [
    {
     "name": "stdout",
     "output_type": "stream",
     "text": [
      "non-alcoholic-fatty-liver-disease.md\n"
     ]
    },
    {
     "data": {
      "text/markdown": [
       "**Factors for Fatty Liver Stage 1:**\n",
       "* Being overweight or obese, particularly with fat around the waist\n",
       "* Having type 2 diabetes\n",
       "* Having a condition that affects insulin resistance\n",
       "* Having high blood pressure\n",
       "* Having high cholesterol\n",
       "* Having metabolic syndrome\n",
       "* Being over 50 years old\n",
       "* Smoking\n",
       "\n",
       "**How to Prevent Fatty Liver Stage 1:**\n",
       "* Lose weight and maintain a healthy BMI (18.5-24.9)\n",
       "* Eat a balanced diet with plenty of fruits, vegetables, protein, and whole grains\n",
       "* Drink water instead of sweet drinks\n",
       "* Exercise regularly (at least 150 minutes of moderate-intensity activity per week)\n",
       "* Stop smoking\n",
       "* Limit or avoid alcohol consumption"
      ],
      "text/plain": [
       "<IPython.core.display.Markdown object>"
      ]
     },
     "execution_count": 8,
     "metadata": {},
     "output_type": "execute_result"
    }
   ],
   "source": [
    "from IPython.display import Markdown\n",
    "print(response.json()[0]['document_id'])\n",
    "Markdown(response.json()[0]['result'])\n"
   ]
  },
  {
   "cell_type": "code",
   "execution_count": 10,
   "metadata": {},
   "outputs": [
    {
     "name": "stderr",
     "output_type": "stream",
     "text": [
      "Failed to determine 'entailment' label id from the label2id mapping in the model config. Setting to -1. Define a descriptive label2id mapping in the model config to ensure correct outputs.\n"
     ]
    },
    {
     "name": "stdout",
     "output_type": "stream",
     "text": [
      "{'BLEU': 4.995138898472386, 'ROUGE-1': 0.588235294117647, 'BERT P': 0.8544826507568359, 'BERT R': 0.8038545250892639, 'BERT F1': 0.8283957839012146, 'Perplexity': 16.381776809692383, 'Diversity': 0.8571428571428571, 'Racial Bias': 0.49152666330337524}\n"
     ]
    }
   ],
   "source": [
    "from rag_evaluator import RAGEvaluator\n",
    "\n",
    "# Initialize the evaluator\n",
    "evaluator = RAGEvaluator()\n",
    "\n",
    "# Input data\n",
    "question = \"What are the causes of climate change?\"\n",
    "response = \"Climate change is caused by human activities.\"\n",
    "reference = \"Human activities such as burning fossil fuels cause climate change.\"\n",
    "\n",
    "# Evaluate the response\n",
    "metrics = evaluator.evaluate_all(question, response, reference)\n",
    "\n",
    "# Print the results\n",
    "print(metrics)"
   ]
  },
  {
   "cell_type": "code",
   "execution_count": 12,
   "metadata": {},
   "outputs": [
    {
     "data": {
      "text/markdown": [
       "It's difficult to provide a calorie count and nutritional breakdown without knowing the specific ingredients and portion sizes of the food in the image. However, I can offer a general analysis based on the visual information. \n",
       "\n",
       "**Food Items:**\n",
       "\n",
       "1. **Curry:** This appears to be a vegetable-based curry with a creamy sauce. The exact ingredients are unclear, but it likely contains ingredients like onions, tomatoes, spices, and possibly coconut milk or cream.\n",
       "2. **Naan:** This is a type of flatbread common in Indian cuisine. It's typically made with flour, water, and yeast.\n",
       "\n",
       "**General Nutritional Information:**\n",
       "\n",
       "* **Calories:** The calorie content will vary depending on the portion sizes and ingredients used in the curry. A typical serving of vegetable curry could range from 200-400 calories, while naan can contribute about 100-150 calories per serving.\n",
       "* **Carbohydrates:** The naan will be the primary source of carbohydrates in this meal. \n",
       "* **Proteins:** The curry may contain some protein from legumes or vegetables. \n",
       "* **Fats:** The curry could be high in fat due to the use of oil and potentially coconut milk or cream. The naan will also contain some fat.\n",
       "* **Sugar:** The curry may have added sugar, but this is likely to be minimal.\n",
       "\n",
       "**Health Assessment:**\n",
       "\n",
       "It's impossible to determine if this meal is \"healthy\" without knowing the specific ingredients and portion sizes. However, it's important to consider that naan is often high in carbohydrates and calories. \n",
       "\n",
       "**Suggestions for a Healthier Meal:**\n",
       "\n",
       "* **Reduce Naan:** To reduce the carbohydrate and calorie intake, consider having a smaller portion of naan or choosing a whole-wheat option.\n",
       "* **Add Vegetables:** Include more vegetables in the curry for added fiber, vitamins, and minerals.\n",
       "* **Choose Lean Protein:** If possible, incorporate a lean protein source like chicken or fish into the curry. \n",
       "* **Watch Oil:** Be mindful of the amount of oil used in the curry preparation.\n",
       "* **Control Portion Size:** Control your portion sizes of both the curry and naan to ensure you're not consuming too many calories.\n",
       "\n",
       "Remember, it's always best to consult with a registered dietitian or nutritionist for personalized advice on how to create a healthy meal plan. \n"
      ],
      "text/plain": [
       "<IPython.core.display.Markdown object>"
      ]
     },
     "execution_count": 12,
     "metadata": {},
     "output_type": "execute_result"
    }
   ],
   "source": [
    "from IPython.display import Markdown\n",
    "Markdown(\"It's difficult to provide a calorie count and nutritional breakdown without knowing the specific ingredients and portion sizes of the food in the image. However, I can offer a general analysis based on the visual information. \\n\\n**Food Items:**\\n\\n1. **Curry:** This appears to be a vegetable-based curry with a creamy sauce. The exact ingredients are unclear, but it likely contains ingredients like onions, tomatoes, spices, and possibly coconut milk or cream.\\n2. **Naan:** This is a type of flatbread common in Indian cuisine. It's typically made with flour, water, and yeast.\\n\\n**General Nutritional Information:**\\n\\n* **Calories:** The calorie content will vary depending on the portion sizes and ingredients used in the curry. A typical serving of vegetable curry could range from 200-400 calories, while naan can contribute about 100-150 calories per serving.\\n* **Carbohydrates:** The naan will be the primary source of carbohydrates in this meal. \\n* **Proteins:** The curry may contain some protein from legumes or vegetables. \\n* **Fats:** The curry could be high in fat due to the use of oil and potentially coconut milk or cream. The naan will also contain some fat.\\n* **Sugar:** The curry may have added sugar, but this is likely to be minimal.\\n\\n**Health Assessment:**\\n\\nIt's impossible to determine if this meal is \\\"healthy\\\" without knowing the specific ingredients and portion sizes. However, it's important to consider that naan is often high in carbohydrates and calories. \\n\\n**Suggestions for a Healthier Meal:**\\n\\n* **Reduce Naan:** To reduce the carbohydrate and calorie intake, consider having a smaller portion of naan or choosing a whole-wheat option.\\n* **Add Vegetables:** Include more vegetables in the curry for added fiber, vitamins, and minerals.\\n* **Choose Lean Protein:** If possible, incorporate a lean protein source like chicken or fish into the curry. \\n* **Watch Oil:** Be mindful of the amount of oil used in the curry preparation.\\n* **Control Portion Size:** Control your portion sizes of both the curry and naan to ensure you're not consuming too many calories.\\n\\nRemember, it's always best to consult with a registered dietitian or nutritionist for personalized advice on how to create a healthy meal plan. \\n\")"
   ]
  },
  {
   "cell_type": "code",
   "execution_count": 13,
   "metadata": {},
   "outputs": [
    {
     "data": {
      "text/markdown": [
       "It is impossible to determine the exact calorie content of the meal in the image without knowing the specific ingredients and portion sizes. However, based on the visual, we can make some educated guesses:\n",
       "\n",
       "1. **Butter Chicken:** Assuming a standard serving size of 1 cup, Butter Chicken typically contains around 300-400 calories, with a high proportion of fat and calories from the creamy sauce. \n",
       "\n",
       "2. **Naan:**  Each naan bread can contain anywhere from 150-200 calories, depending on size and thickness. The image shows 4 naan breads.\n",
       "\n",
       "**Total Estimated Calories:**  Assuming a conservative estimate, the meal could contain around 1000-1200 calories.\n",
       "\n",
       "**Nutritional Breakdown (Approximate):**\n",
       "\n",
       "* **Carbohydrates:**  High, primarily from the naan bread.\n",
       "* **Proteins:** Moderate, mainly from the chicken in the butter chicken.\n",
       "* **Fats:** High, primarily from the butter, cream, and oil used in the butter chicken.\n",
       "* **Sugar:** Moderate, from the sugar in the butter chicken sauce.\n",
       "\n",
       "**Meal Healthiness:**\n",
       "\n",
       "This meal is considered **unhealthy** due to the high calorie content, high fat content, and lack of fresh vegetables and fruits.\n",
       "\n",
       "**Suggestions for Improvement:**\n",
       "\n",
       "* **Remove:** 1-2 naan breads to reduce the carbohydrate and calorie intake.\n",
       "* **Add:** \n",
       "    * **Fresh Salad:** A side salad with a vinaigrette dressing would add fiber, vitamins, and minerals.\n",
       "    * **Steamed Vegetables:**  Adding a serving of steamed vegetables, like broccoli or cauliflower, would provide essential nutrients and make the meal more balanced.\n",
       "    * **Lentils or Chickpeas:**  Including a serving of lentils or chickpeas would add protein and fiber.\n",
       "\n",
       "**Note:** These are just estimations. The actual calorie count and nutritional breakdown may vary based on the specific recipe and ingredients used. It's always best to check with a nutritionist or use a calorie tracking app to get a more accurate assessment."
      ],
      "text/plain": [
       "<IPython.core.display.Markdown object>"
      ]
     },
     "execution_count": 13,
     "metadata": {},
     "output_type": "execute_result"
    }
   ],
   "source": [
    "Markdown(\"It is impossible to determine the exact calorie content of the meal in the image without knowing the specific ingredients and portion sizes. However, based on the visual, we can make some educated guesses:\\n\\n1. **Butter Chicken:** Assuming a standard serving size of 1 cup, Butter Chicken typically contains around 300-400 calories, with a high proportion of fat and calories from the creamy sauce. \\n\\n2. **Naan:**  Each naan bread can contain anywhere from 150-200 calories, depending on size and thickness. The image shows 4 naan breads.\\n\\n**Total Estimated Calories:**  Assuming a conservative estimate, the meal could contain around 1000-1200 calories.\\n\\n**Nutritional Breakdown (Approximate):**\\n\\n* **Carbohydrates:**  High, primarily from the naan bread.\\n* **Proteins:** Moderate, mainly from the chicken in the butter chicken.\\n* **Fats:** High, primarily from the butter, cream, and oil used in the butter chicken.\\n* **Sugar:** Moderate, from the sugar in the butter chicken sauce.\\n\\n**Meal Healthiness:**\\n\\nThis meal is considered **unhealthy** due to the high calorie content, high fat content, and lack of fresh vegetables and fruits.\\n\\n**Suggestions for Improvement:**\\n\\n* **Remove:** 1-2 naan breads to reduce the carbohydrate and calorie intake.\\n* **Add:** \\n    * **Fresh Salad:** A side salad with a vinaigrette dressing would add fiber, vitamins, and minerals.\\n    * **Steamed Vegetables:**  Adding a serving of steamed vegetables, like broccoli or cauliflower, would provide essential nutrients and make the meal more balanced.\\n    * **Lentils or Chickpeas:**  Including a serving of lentils or chickpeas would add protein and fiber.\\n\\n**Note:** These are just estimations. The actual calorie count and nutritional breakdown may vary based on the specific recipe and ingredients used. It's always best to check with a nutritionist or use a calorie tracking app to get a more accurate assessment.\")"
   ]
  },
  {
   "cell_type": "code",
   "execution_count": 20,
   "metadata": {},
   "outputs": [],
   "source": [
    "import matplotlib.pyplot as plt\n",
    "import numpy as np\n",
    "import cv2\n",
    "img = plt.imread(r\"C:\\Users\\A507658\\Downloads\\FPN_acc.png\")"
   ]
  },
  {
   "cell_type": "code",
   "execution_count": 54,
   "metadata": {},
   "outputs": [
    {
     "data": {
      "image/png": "[encoded data removed]",
      "text/plain": [
       "<Figure size 640x480 with 1 Axes>"
      ]
     },
     "metadata": {},
     "output_type": "display_data"
    }
   ],
   "source": [
    "plt.imshow(img);\n",
    "# plt.axis(\"off\");\n",
    "plt.show()"
   ]
  },
  {
   "cell_type": "code",
   "execution_count": 27,
   "metadata": {},
   "outputs": [
    {
     "data": {
      "text/plain": [
       "(2400, 5600, 4)"
      ]
     },
     "execution_count": 27,
     "metadata": {},
     "output_type": "execute_result"
    }
   ],
   "source": [
    "img.shape"
   ]
  },
  {
   "cell_type": "code",
   "execution_count": 53,
   "metadata": {},
   "outputs": [
    {
     "data": {
      "image/png": "[encoded data removed]",
      "text/plain": [
       "<Figure size 640x480 with 1 Axes>"
      ]
     },
     "metadata": {},
     "output_type": "display_data"
    }
   ],
   "source": [
    "plt.imshow(img[:,500:2800])\n",
    "plt.axis(\"off\");\n",
    "plt.savefig('high_dpi_image.png', dpi=1000, bbox_inches='tight', pad_inches=0)\n",
    "plt.show()\n"
   ]
  },
  {
   "cell_type": "code",
   "execution_count": 73,
   "metadata": {},
   "outputs": [
    {
     "data": {
      "image/png": "[encoded data removed]",
      "text/plain": [
       "<Figure size 640x480 with 1 Axes>"
      ]
     },
     "metadata": {},
     "output_type": "display_data"
    }
   ],
   "source": [
    "plt.imshow(img[200:2400,2800:5400])\n",
    "plt.axis(\"off\");\n",
    "plt.savefig('high_dpi_image1.png', dpi=1000, bbox_inches='tight', pad_inches=0)\n",
    "plt.show()"
   ]
  },
  {
   "cell_type": "code",
   "execution_count": null,
   "metadata": {},
   "outputs": [],
   "source": []
  }
 ],
 "metadata": {
  "kernelspec": {
   "display_name": "base",
   "language": "python",
   "name": "python3"
  },
  "language_info": {
   "codemirror_mode": {
    "name": "ipython",
    "version": 3
   },
   "file_extension": ".py",
   "mimetype": "text/x-python",
   "name": "python",
   "nbconvert_exporter": "python",
   "pygments_lexer": "ipython3",
   "version": "3.11.7"
  }
 },
 "nbformat": 4,
 "nbformat_minor": 2
}
